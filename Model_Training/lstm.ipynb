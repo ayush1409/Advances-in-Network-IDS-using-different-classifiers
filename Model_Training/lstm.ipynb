{
 "cells": [
  {
   "cell_type": "code",
   "execution_count": null,
   "metadata": {
    "id": "JTYsfgZuDXLC"
   },
   "outputs": [],
   "source": []
  },
  {
   "cell_type": "code",
   "execution_count": 30,
   "metadata": {
    "id": "dhuqajBtwxm-"
   },
   "outputs": [],
   "source": [
    "import pandas as pd\n",
    "import numpy as np\n",
    "import pickle\n",
    "import matplotlib.pyplot as plt"
   ]
  },
  {
   "cell_type": "code",
   "execution_count": 31,
   "metadata": {
    "id": "qdqdgr412mFk"
   },
   "outputs": [],
   "source": [
    "from sklearn.preprocessing import MinMaxScaler, StandardScaler, RobustScaler\n",
    "from sklearn.preprocessing import LabelEncoder\n",
    "from sklearn.model_selection import train_test_split\n",
    "import tensorflow as tf\n"
   ]
  },
  {
   "cell_type": "code",
   "execution_count": 38,
   "metadata": {
    "colab": {
     "base_uri": "https://localhost:8080/"
    },
    "id": "zUMhnrtJl4ip",
    "outputId": "eea7bb98-96d0-4354-c9e6-4f7370e1d417"
   },
   "outputs": [],
   "source": [
    "#tf.config.list_physical_devices('GPU')"
   ]
  },
  {
   "cell_type": "code",
   "execution_count": 4,
   "metadata": {
    "id": "rvmktAtENCkz"
   },
   "outputs": [],
   "source": [
    "from tensorflow.keras.layers import BatchNormalization,Dense,LSTM"
   ]
  },
  {
   "cell_type": "code",
   "execution_count": 6,
   "metadata": {
    "id": "p4-7Hf6oDLNL"
   },
   "outputs": [],
   "source": [
    "#pickle load\n",
    "X_file = open('feature_data', 'rb')\n",
    "X = pickle.load(X_file)   \n",
    "X_file.close()\n",
    "\n",
    "y_file = open('label_data', 'rb')\n",
    "y = pickle.load(y_file)   \n",
    "y_file.close()"
   ]
  },
  {
   "cell_type": "code",
   "execution_count": null,
   "metadata": {
    "id": "WrbglVT5EeLh"
   },
   "outputs": [],
   "source": []
  },
  {
   "cell_type": "code",
   "execution_count": null,
   "metadata": {
    "id": "GEL2bwM6wdkf"
   },
   "outputs": [],
   "source": [
    "# #Rading Dataset\n",
    "# path = \"/content/drive/MyDrive/Colab Notebooks/Dataset_clean.csv\"\n",
    "# dataset = pd.read_csv(path)"
   ]
  },
  {
   "cell_type": "code",
   "execution_count": null,
   "metadata": {
    "id": "TzWjCUkVzDrK"
   },
   "outputs": [],
   "source": [
    "# dataset.head()"
   ]
  },
  {
   "cell_type": "code",
   "execution_count": null,
   "metadata": {
    "id": "svZi-KLdz3d_"
   },
   "outputs": [],
   "source": []
  },
  {
   "cell_type": "code",
   "execution_count": null,
   "metadata": {
    "id": "V1tvyu8PZSu6"
   },
   "outputs": [],
   "source": [
    "# X = dataset.iloc[:,:-1]\n",
    "# y = dataset.iloc[:,-1]"
   ]
  },
  {
   "cell_type": "code",
   "execution_count": null,
   "metadata": {
    "id": "7y0QCK5Le9zT"
   },
   "outputs": [],
   "source": [
    "# #changing dtypes of  features columns (\"X\")\n",
    "# X = X.astype(\"float64\")"
   ]
  },
  {
   "cell_type": "code",
   "execution_count": 7,
   "metadata": {
    "colab": {
     "base_uri": "https://localhost:8080/"
    },
    "id": "Qqkfcu4870sq",
    "outputId": "e02ede53-07d1-47a0-e054-2dcac994e625"
   },
   "outputs": [
    {
     "data": {
      "text/plain": [
       "((2572635, 78), (2572635,))"
      ]
     },
     "execution_count": 7,
     "metadata": {},
     "output_type": "execute_result"
    }
   ],
   "source": [
    "X.shape,y.shape"
   ]
  },
  {
   "cell_type": "code",
   "execution_count": 8,
   "metadata": {
    "colab": {
     "base_uri": "https://localhost:8080/"
    },
    "id": "2vTyKo9H6Vjo",
    "outputId": "cf58105c-c64c-4426-a9ca-a63dcfc10807"
   },
   "outputs": [
    {
     "data": {
      "text/plain": [
       "6.0"
      ]
     },
     "execution_count": 8,
     "metadata": {},
     "output_type": "execute_result"
    }
   ],
   "source": [
    "12.5//2"
   ]
  },
  {
   "cell_type": "code",
   "execution_count": null,
   "metadata": {
    "id": "2qj8xeKHZDq6"
   },
   "outputs": [],
   "source": [
    "# # RobustScaler is used to preserve outliers in the data.\n",
    "# scaler = RobustScaler()\n",
    "# scaler.fit(X)\n",
    "\n",
    "# X = scaler.transform(X)"
   ]
  },
  {
   "cell_type": "code",
   "execution_count": null,
   "metadata": {
    "id": "bHD9mLiyu0-w"
   },
   "outputs": [],
   "source": [
    "# X = X.to_numpy()"
   ]
  },
  {
   "cell_type": "code",
   "execution_count": 9,
   "metadata": {
    "id": "s-h0WDkx_SA6"
   },
   "outputs": [],
   "source": [
    "#RESHAPING THE DATA\n",
    "X = X.reshape(X.shape[0],X.shape[1] //2 ,2)"
   ]
  },
  {
   "cell_type": "code",
   "execution_count": 10,
   "metadata": {
    "id": "Bxyzh7fUjKuh"
   },
   "outputs": [],
   "source": [
    "# b=np.array([[1,2,3,4,5,6],[15,16,17,18,19,20]])\n",
    "# b.reshape(b.shape[0],b.shape[1]//2,2)\n"
   ]
  },
  {
   "cell_type": "code",
   "execution_count": 11,
   "metadata": {
    "id": "xjR9pyp0aAPV"
   },
   "outputs": [],
   "source": [
    "# X[0]"
   ]
  },
  {
   "cell_type": "code",
   "execution_count": 12,
   "metadata": {
    "id": "td7YlN6OZD1Q"
   },
   "outputs": [],
   "source": [
    "# del dataset"
   ]
  },
  {
   "cell_type": "markdown",
   "metadata": {
    "id": "lDDWo_q2fmCc"
   },
   "source": [
    "LABEL ENCODING"
   ]
  },
  {
   "cell_type": "code",
   "execution_count": 13,
   "metadata": {
    "id": "Lgmi_PhWfimm"
   },
   "outputs": [],
   "source": [
    "LE = LabelEncoder()\n",
    "\n",
    "LE.fit(y)\n",
    "y = LE.transform(y)"
   ]
  },
  {
   "cell_type": "code",
   "execution_count": 14,
   "metadata": {
    "colab": {
     "base_uri": "https://localhost:8080/"
    },
    "id": "_5b64A5HfkcU",
    "outputId": "da0f7336-4280-4140-abc0-54e969d287e1"
   },
   "outputs": [
    {
     "data": {
      "text/plain": [
       "array([ 0,  1,  2,  3,  4,  5,  6,  7,  8,  9, 10, 11, 12, 13, 14])"
      ]
     },
     "execution_count": 14,
     "metadata": {},
     "output_type": "execute_result"
    }
   ],
   "source": [
    "np.unique(y)"
   ]
  },
  {
   "cell_type": "code",
   "execution_count": null,
   "metadata": {
    "id": "P3Z0SAPfgUBJ"
   },
   "outputs": [],
   "source": []
  },
  {
   "cell_type": "markdown",
   "metadata": {
    "id": "XAArZVAfgeMm"
   },
   "source": [
    "TRAINING THE MODEL"
   ]
  },
  {
   "cell_type": "code",
   "execution_count": 15,
   "metadata": {
    "id": "aIixKKsCEjs5"
   },
   "outputs": [],
   "source": [
    "# from imblearn.over_sampling import SMOTE\n",
    "# X_resample,y_resample=SMOTE().fit_resample(X,y)"
   ]
  },
  {
   "cell_type": "code",
   "execution_count": 16,
   "metadata": {
    "id": "c925uc_nEp8o"
   },
   "outputs": [],
   "source": [
    "# del X\n",
    "# del y"
   ]
  },
  {
   "cell_type": "code",
   "execution_count": 17,
   "metadata": {
    "colab": {
     "base_uri": "https://localhost:8080/"
    },
    "id": "Z-0pti17gXGu",
    "outputId": "93c3c8b1-72b8-46ed-b54c-6436cc6a1702"
   },
   "outputs": [
    {
     "data": {
      "text/plain": [
       "((2058108, 39, 2), (514527, 39, 2), (2058108,), (514527,))"
      ]
     },
     "execution_count": 17,
     "metadata": {},
     "output_type": "execute_result"
    }
   ],
   "source": [
    "X_train, X_test, y_train, y_test = train_test_split(X,y, test_size=.2)\n",
    "\n",
    "X_train.shape, X_test.shape, y_train.shape, y_test.shape"
   ]
  },
  {
   "cell_type": "code",
   "execution_count": 18,
   "metadata": {
    "id": "PmUTeLOjgXMT"
   },
   "outputs": [],
   "source": [
    "unique, counts = np.unique(y_test, return_counts=True)"
   ]
  },
  {
   "cell_type": "code",
   "execution_count": 19,
   "metadata": {
    "colab": {
     "base_uri": "https://localhost:8080/"
    },
    "id": "fOnESkWY-IF4",
    "outputId": "5eb08e7d-f030-41c0-91ff-95997bd4e29a"
   },
   "outputs": [
    {
     "data": {
      "text/plain": [
       "(array([ 0,  1,  2,  3,  4,  5,  6,  7,  8,  9, 10, 11, 12, 13, 14]),\n",
       " array([34218, 34408, 34360, 34007, 33967, 34293, 34745, 34467, 34338,\n",
       "        34227, 34377, 34474, 34143, 34314, 34189]))"
      ]
     },
     "execution_count": 19,
     "metadata": {},
     "output_type": "execute_result"
    }
   ],
   "source": [
    "unique , counts"
   ]
  },
  {
   "cell_type": "code",
   "execution_count": 20,
   "metadata": {
    "id": "cYFCz581_hfo"
   },
   "outputs": [
    {
     "name": "stdout",
     "output_type": "stream",
     "text": [
      "WARNING:tensorflow:From /home/shailesh/.local/lib/python3.6/site-packages/tensorflow/python/ops/init_ops.py:1251: calling VarianceScaling.__init__ (from tensorflow.python.ops.init_ops) with dtype is deprecated and will be removed in a future version.\n",
      "Instructions for updating:\n",
      "Call initializer instance with the dtype argument instead of passing it to the constructor\n"
     ]
    }
   ],
   "source": [
    "model = tf.keras.models.Sequential()\n",
    "model.add(\n",
    "    LSTM(\n",
    "        16,activation=\"relu\",\n",
    "         input_shape=[X.shape[1],2],\n",
    "         return_sequences = True,\n",
    "    ))"
   ]
  },
  {
   "cell_type": "code",
   "execution_count": 21,
   "metadata": {
    "id": "XmOGM-1OAZfE"
   },
   "outputs": [],
   "source": [
    "model.add(BatchNormalization())\n",
    "model.add(LSTM(16))\n",
    "model.add(BatchNormalization())\n",
    "model.add(Dense(15,activation = \"softmax\"))"
   ]
  },
  {
   "cell_type": "code",
   "execution_count": 22,
   "metadata": {
    "id": "6JJXCAjitU4B"
   },
   "outputs": [],
   "source": [
    "from tensorflow.keras.optimizers import Adam"
   ]
  },
  {
   "cell_type": "code",
   "execution_count": 23,
   "metadata": {
    "id": "3SY-iuzZOSJd"
   },
   "outputs": [],
   "source": [
    "#compile the model\n",
    "opt=Adam(clipnorm=1)\n",
    "model.compile(optimizer=opt,\n",
    "             loss='sparse_categorical_crossentropy',\n",
    "             metrics=['accuracy'])"
   ]
  },
  {
   "cell_type": "code",
   "execution_count": 24,
   "metadata": {
    "id": "8XXOZRDFOlFf"
   },
   "outputs": [],
   "source": [
    "# with tf.device('GPU:0'):\n",
    "#     model.fit(X_train,y_train,epochs=1)\n",
    "#     model.evaluate(X_test, y_test, verbose=2)"
   ]
  },
  {
   "cell_type": "code",
   "execution_count": 35,
   "metadata": {},
   "outputs": [
    {
     "name": "stdout",
     "output_type": "stream",
     "text": [
      "Epoch 1/5\n",
      "2058108/2058108 [==============================] - 2030s 986us/sample - loss: 0.1214 - acc: 0.9417\n",
      "Epoch 2/5\n",
      "2058108/2058108 [==============================] - 2004s 974us/sample - loss: 0.1177 - acc: 0.9437\n",
      "Epoch 3/5\n",
      "2058108/2058108 [==============================] - 2228s 1ms/sample - loss: 0.1161 - acc: 0.9443\n",
      "Epoch 4/5\n",
      "2058108/2058108 [==============================] - 2190s 1ms/sample - loss: 0.1146 - acc: 0.9448\n",
      "Epoch 5/5\n",
      "2058108/2058108 [==============================] - 1873s 910us/sample - loss: 0.1129 - acc: 0.9455\n"
     ]
    }
   ],
   "source": [
    "var = model.fit(X_train,y_train,epochs=5)\n"
   ]
  },
  {
   "cell_type": "code",
   "execution_count": 26,
   "metadata": {
    "colab": {
     "base_uri": "https://localhost:8080/"
    },
    "id": "qg5-5XIQnPxQ",
    "outputId": "b863ceab-ec50-4d8f-d203-9ef56f05545b"
   },
   "outputs": [
    {
     "name": "stdout",
     "output_type": "stream",
     "text": [
      "Epoch 1/5\n",
      "2058108/2058108 [==============================] - 1949s 947us/sample - loss: 0.2629 - acc: 0.8977\n",
      "Epoch 2/5\n",
      "2058108/2058108 [==============================] - 1971s 958us/sample - loss: 0.1625 - acc: 0.9272\n",
      "Epoch 3/5\n",
      "2058108/2058108 [==============================] - 1982s 963us/sample - loss: 0.1355 - acc: 0.9361\n",
      "Epoch 4/5\n",
      "2058108/2058108 [==============================] - 1974s 959us/sample - loss: 0.1274 - acc: 0.9391\n",
      "Epoch 5/5\n",
      "2058108/2058108 [==============================] - 1880s 913us/sample - loss: 0.1215 - acc: 0.9409\n"
     ]
    },
    {
     "data": {
      "text/plain": [
       "<tensorflow.python.keras.callbacks.History at 0x7ff242bbe7b8>"
      ]
     },
     "execution_count": 26,
     "metadata": {},
     "output_type": "execute_result"
    }
   ],
   "source": [
    "model.fit(X_train,y_train,epochs=5)\n"
   ]
  },
  {
   "cell_type": "code",
   "execution_count": 27,
   "metadata": {
    "colab": {
     "base_uri": "https://localhost:8080/"
    },
    "id": "zXCO7B7NOwpo",
    "outputId": "be766569-768a-415c-dd1d-26183f9f5ea3"
   },
   "outputs": [
    {
     "name": "stdout",
     "output_type": "stream",
     "text": [
      "514527/514527 - 109s - loss: 0.4033 - acc: 0.8705\n"
     ]
    },
    {
     "data": {
      "text/plain": [
       "[0.40330716389329246, 0.8704674]"
      ]
     },
     "execution_count": 27,
     "metadata": {},
     "output_type": "execute_result"
    }
   ],
   "source": [
    "# Evaluating model accuracy.\n",
    "model.evaluate(X_test, y_test, verbose=2)"
   ]
  },
  {
   "cell_type": "code",
   "execution_count": 28,
   "metadata": {
    "id": "llibdUPWPUvi"
   },
   "outputs": [],
   "source": [
    "y_prob = model.predict(X_test)\n",
    "y_pred = y_prob.argmax(axis=1)"
   ]
  },
  {
   "cell_type": "code",
   "execution_count": 29,
   "metadata": {
    "id": "-R2UlQYTEO7r"
   },
   "outputs": [],
   "source": [
    "# Saving the model.\n",
    "\n",
    "model.save('IDS_model_lstm.h5')"
   ]
  },
  {
   "cell_type": "markdown",
   "metadata": {
    "id": "fG4CZ67XEWWJ"
   },
   "source": [
    "#### Plotting accuracy and loss function"
   ]
  },
  {
   "cell_type": "code",
   "execution_count": 36,
   "metadata": {},
   "outputs": [
    {
     "data": {
      "image/png": "[encoded data removed]",
      "text/plain": [
       "<Figure size 432x288 with 1 Axes>"
      ]
     },
     "metadata": {
      "needs_background": "light"
     },
     "output_type": "display_data"
    },
    {
     "data": {
      "text/plain": [
       "<Figure size 432x288 with 0 Axes>"
      ]
     },
     "metadata": {},
     "output_type": "display_data"
    }
   ],
   "source": [
    "# Loss graph\n",
    "plt.plot(var.history['loss'])\n",
    "plt.xlabel('epochs')\n",
    "plt.ylabel('Loss')\n",
    "plt.show()\n",
    "plt.savefig('lstm_loss.png')"
   ]
  },
  {
   "cell_type": "code",
   "execution_count": 37,
   "metadata": {},
   "outputs": [
    {
     "data": {
      "image/png": "[encoded data removed]",
      "text/plain": [
       "<Figure size 432x288 with 1 Axes>"
      ]
     },
     "metadata": {
      "needs_background": "light"
     },
     "output_type": "display_data"
    },
    {
     "data": {
      "text/plain": [
       "<Figure size 432x288 with 0 Axes>"
      ]
     },
     "metadata": {},
     "output_type": "display_data"
    }
   ],
   "source": [
    "# accuracy graph\n",
    "plt.plot(var.history['acc'])\n",
    "plt.xlabel('epochs')\n",
    "plt.ylabel('accuracy')\n",
    "plt.show()\n",
    "plt.savefig('lstm_accuracy.png')"
   ]
  },
  {
   "cell_type": "code",
   "execution_count": null,
   "metadata": {},
   "outputs": [],
   "source": []
  }
 ],
 "metadata": {
  "colab": {
   "name": "lstm.ipynb",
   "provenance": []
  },
  "kernelspec": {
   "display_name": "Python 3",
   "language": "python",
   "name": "python3"
  },
  "language_info": {
   "codemirror_mode": {
    "name": "ipython",
    "version": 3
   },
   "file_extension": ".py",
   "mimetype": "text/x-python",
   "name": "python",
   "nbconvert_exporter": "python",
   "pygments_lexer": "ipython3",
   "version": "3.6.9"
  }
 },
 "nbformat": 4,
 "nbformat_minor": 1
}
