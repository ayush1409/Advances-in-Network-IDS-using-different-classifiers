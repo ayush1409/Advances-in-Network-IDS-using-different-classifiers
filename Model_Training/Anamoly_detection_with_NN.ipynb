{
 "cells": [
  {
   "cell_type": "code",
   "execution_count": 78,
   "metadata": {
    "id": "Deu2Z-lnIzCs"
   },
   "outputs": [],
   "source": [
    "import pandas as pd\n",
    "import glob\n",
    "import re\n",
    "import numpy as np\n",
    "from sklearn.preprocessing import MinMaxScaler, StandardScaler, RobustScaler\n",
    "from sklearn.preprocessing import LabelEncoder\n",
    "from sklearn.model_selection import train_test_split\n",
    "import tensorflow as tf\n",
    "import datetime\n",
    "import matplotlib.pyplot as plt"
   ]
  },
  {
   "cell_type": "code",
   "execution_count": 57,
   "metadata": {
    "id": "JXZXt37DB7_Z"
   },
   "outputs": [],
   "source": [
    "#Reading Dataset\n",
    "path = \"Dataset_clean.csv\"\n",
    "dataset = pd.read_csv(path)"
   ]
  },
  {
   "cell_type": "code",
   "execution_count": null,
   "metadata": {
    "id": "P_HKpAjHr2TV"
   },
   "outputs": [],
   "source": []
  },
  {
   "cell_type": "code",
   "execution_count": 43,
   "metadata": {
    "id": "YUELY37mp5oa"
   },
   "outputs": [],
   "source": [
    "# dataset[dataset['Label'] == 'Bot'].shape[0]"
   ]
  },
  {
   "cell_type": "code",
   "execution_count": 44,
   "metadata": {
    "id": "dwQX15W5p5ob"
   },
   "outputs": [],
   "source": [
    "newdf = pd.DataFrame()\n",
    "\n",
    "#oversampling\n",
    "category = dataset['Label'].unique()\n",
    "\n",
    "for i in category:\n",
    "    tmp = dataset[dataset['Label'] == i]\n",
    "    val = tmp.shape[0]\n",
    "    \n",
    "    tmp = tmp.sample(171509,replace=True)\n",
    "    newdf = pd.concat([newdf,tmp],axis=0)\n",
    "    "
   ]
  },
  {
   "cell_type": "code",
   "execution_count": 45,
   "metadata": {
    "colab": {
     "base_uri": "https://localhost:8080/"
    },
    "id": "QKrYwiVrp5od",
    "outputId": "7d3f0fad-88f5-4f95-be65-01f51ee7b5aa"
   },
   "outputs": [
    {
     "data": {
      "text/plain": [
       "((2425727, 79), (2572635, 79))"
      ]
     },
     "execution_count": 45,
     "metadata": {},
     "output_type": "execute_result"
    }
   ],
   "source": [
    "dataset.shape,newdf.shape"
   ]
  },
  {
   "cell_type": "code",
   "execution_count": 46,
   "metadata": {
    "colab": {
     "base_uri": "https://localhost:8080/"
    },
    "id": "562zjayZp5od",
    "outputId": "ebc3d140-0668-418d-b824-b13c3d24316e"
   },
   "outputs": [
    {
     "data": {
      "text/plain": [
       "DoS_slowloris               171509\n",
       "Infiltration                171509\n",
       "DoS_Hulk                    171509\n",
       "BENIGN                      171509\n",
       "Bot                         171509\n",
       "Web_Attack_XSS              171509\n",
       "Heartbleed                  171509\n",
       "DoS_GoldenEye               171509\n",
       "PortScan                    171509\n",
       "Web_Attack_Sql_Injection    171509\n",
       "SSH_Patator                 171509\n",
       "Web_Attack_Brute_Force      171509\n",
       "DDoS                        171509\n",
       "FTP_Patator                 171509\n",
       "DoS_Slowhttptest            171509\n",
       "Name: Label, dtype: int64"
      ]
     },
     "execution_count": 46,
     "metadata": {},
     "output_type": "execute_result"
    }
   ],
   "source": [
    "newdf['Label'].value_counts()"
   ]
  },
  {
   "cell_type": "code",
   "execution_count": 47,
   "metadata": {
    "id": "rs3jw8qsp5oe"
   },
   "outputs": [],
   "source": [
    "dataset = newdf.copy()\n",
    "del newdf"
   ]
  },
  {
   "cell_type": "code",
   "execution_count": 48,
   "metadata": {
    "id": "V1tvyu8PZSu6"
   },
   "outputs": [],
   "source": [
    "X = dataset.iloc[:,:-1]\n",
    "y = dataset.iloc[:,-1]"
   ]
  },
  {
   "cell_type": "code",
   "execution_count": 49,
   "metadata": {
    "id": "lLW0ngkd-3U-"
   },
   "outputs": [],
   "source": [
    "del dataset"
   ]
  },
  {
   "cell_type": "code",
   "execution_count": 50,
   "metadata": {
    "id": "7y0QCK5Le9zT"
   },
   "outputs": [],
   "source": [
    "#changing dtypes of  features columns (\"X\")\n",
    "X = X.astype(\"float64\")"
   ]
  },
  {
   "cell_type": "code",
   "execution_count": 51,
   "metadata": {
    "id": "2qj8xeKHZDq6"
   },
   "outputs": [],
   "source": [
    "# # RobustScaler is used to preserve outliers in the data.\n",
    "scaler = RobustScaler()\n",
    "scaler.fit(X)\n",
    "\n",
    "X = scaler.transform(X)"
   ]
  },
  {
   "cell_type": "code",
   "execution_count": 52,
   "metadata": {
    "id": "xjR9pyp0aAPV"
   },
   "outputs": [],
   "source": [
    "# X[0]"
   ]
  },
  {
   "cell_type": "code",
   "execution_count": null,
   "metadata": {
    "id": "td7YlN6OZD1Q"
   },
   "outputs": [],
   "source": []
  },
  {
   "cell_type": "markdown",
   "metadata": {
    "id": "lDDWo_q2fmCc"
   },
   "source": [
    "LABEL ENCODING"
   ]
  },
  {
   "cell_type": "code",
   "execution_count": 53,
   "metadata": {
    "id": "Lgmi_PhWfimm"
   },
   "outputs": [],
   "source": [
    "LE = LabelEncoder()\n",
    "\n",
    "LE.fit(y)\n",
    "y = LE.transform(y)"
   ]
  },
  {
   "cell_type": "code",
   "execution_count": 56,
   "metadata": {},
   "outputs": [
    {
     "data": {
      "text/plain": [
       "array(['BENIGN', 'Bot', 'DDoS', 'DoS_GoldenEye', 'DoS_Hulk',\n",
       "       'DoS_Slowhttptest', 'DoS_slowloris', 'FTP_Patator', 'Heartbleed',\n",
       "       'Infiltration', 'PortScan', 'SSH_Patator',\n",
       "       'Web_Attack_Brute_Force', 'Web_Attack_Sql_Injection',\n",
       "       'Web_Attack_XSS'], dtype=object)"
      ]
     },
     "execution_count": 56,
     "metadata": {},
     "output_type": "execute_result"
    }
   ],
   "source": [
    "LE.get_params"
   ]
  },
  {
   "cell_type": "code",
   "execution_count": 55,
   "metadata": {},
   "outputs": [
    {
     "data": {
      "text/plain": [
       "['BENIGN',\n",
       " 'Bot',\n",
       " 'DDoS',\n",
       " 'DoS_GoldenEye',\n",
       " 'DoS_Hulk',\n",
       " 'DoS_Slowhttptest',\n",
       " 'DoS_slowloris',\n",
       " 'FTP_Patator',\n",
       " 'Heartbleed',\n",
       " 'Infiltration',\n",
       " 'PortScan',\n",
       " 'SSH_Patator',\n",
       " 'Web_Attack_Brute_Force',\n",
       " 'Web_Attack_Sql_Injection',\n",
       " 'Web_Attack_XSS']"
      ]
     },
     "execution_count": 55,
     "metadata": {},
     "output_type": "execute_result"
    }
   ],
   "source": [
    "list(LE.classes_)"
   ]
  },
  {
   "cell_type": "code",
   "execution_count": 36,
   "metadata": {},
   "outputs": [
    {
     "data": {
      "text/plain": [
       "array(['BENIGN', 'Bot', 'DDoS', 'DoS_GoldenEye', 'DoS_Hulk',\n",
       "       'DoS_Slowhttptest', 'DoS_slowloris', 'FTP_Patator', 'Heartbleed',\n",
       "       'Infiltration', 'PortScan', 'SSH_Patator',\n",
       "       'Web_Attack_Brute_Force', 'Web_Attack_Sql_Injection',\n",
       "       'Web_Attack_XSS'], dtype=object)"
      ]
     },
     "execution_count": 36,
     "metadata": {},
     "output_type": "execute_result"
    }
   ],
   "source": [
    "LE.classes_"
   ]
  },
  {
   "cell_type": "code",
   "execution_count": 15,
   "metadata": {
    "colab": {
     "base_uri": "https://localhost:8080/"
    },
    "id": "_5b64A5HfkcU",
    "outputId": "920689df-c4f1-414d-a0a8-81f149b0c001"
   },
   "outputs": [
    {
     "data": {
      "text/plain": [
       "array([ 0,  1,  2,  3,  4,  5,  6,  7,  8,  9, 10, 11, 12, 13, 14])"
      ]
     },
     "execution_count": 15,
     "metadata": {},
     "output_type": "execute_result"
    }
   ],
   "source": [
    "np.unique(y)"
   ]
  },
  {
   "cell_type": "code",
   "execution_count": 16,
   "metadata": {
    "colab": {
     "base_uri": "https://localhost:8080/"
    },
    "id": "P3Z0SAPfgUBJ",
    "outputId": "73fea640-1ca0-4eb3-9084-6dca99144000"
   },
   "outputs": [
    {
     "data": {
      "text/plain": [
       "(array([ 0,  1,  2,  3,  4,  5,  6,  7,  8,  9, 10, 11, 12, 13, 14]),\n",
       " array([171509, 171509, 171509, 171509, 171509, 171509, 171509, 171509,\n",
       "        171509, 171509, 171509, 171509, 171509, 171509, 171509]))"
      ]
     },
     "execution_count": 16,
     "metadata": {},
     "output_type": "execute_result"
    }
   ],
   "source": [
    "unique, counts = np.unique(y, return_counts = True)\n",
    "unique, counts"
   ]
  },
  {
   "cell_type": "markdown",
   "metadata": {
    "id": "XAArZVAfgeMm"
   },
   "source": [
    "TRAINING THE MODEL"
   ]
  },
  {
   "cell_type": "code",
   "execution_count": null,
   "metadata": {
    "id": "cgLlW9x4p5ok"
   },
   "outputs": [],
   "source": []
  },
  {
   "cell_type": "code",
   "execution_count": 17,
   "metadata": {
    "id": "1Vg3eVDH5h1h"
   },
   "outputs": [],
   "source": [
    "#from imblearn.over_sampling import SMOTE\n",
    "#X_resample,y_resample=SMOTE().fit_resample(X,y)\n",
    "\n",
    "# from imblearn.over_sampling import SMOTE\n",
    "# for i in range(5):\n",
    "#     smote = SMOTE(sampling_strategy='minority')\n",
    "#     X, y = smote.fit_resample(X, y)"
   ]
  },
  {
   "cell_type": "code",
   "execution_count": 18,
   "metadata": {
    "id": "yIE7b8hs8gUy"
   },
   "outputs": [],
   "source": [
    "# del X\n",
    "# del y"
   ]
  },
  {
   "cell_type": "code",
   "execution_count": 20,
   "metadata": {
    "id": "3kQ0iGpz97pJ"
   },
   "outputs": [],
   "source": [
    "import pickle\n",
    "#Dumping the data\n",
    "X_file = open('feature_data', 'wb')\n",
    "pickle.dump(X, X_file)   \n",
    "X_file.close()\n",
    "\n",
    "y_file = open('label_data', 'wb')\n",
    "pickle.dump(y, y_file)   \n",
    "y_file.close()\n",
    "\n"
   ]
  },
  {
   "cell_type": "code",
   "execution_count": 21,
   "metadata": {
    "id": "X6VYLosKCk3y"
   },
   "outputs": [],
   "source": [
    "##pickle load\n",
    "# X_file = open('feature_data', 'rb')\n",
    "# X_resample = pickle.load(X_file)   \n",
    "# X_file.close()\n",
    "\n",
    "# y_file = open('label_data', 'rb')\n",
    "# y_resample = pickle.load(y_file)   \n",
    "# y_file.close()"
   ]
  },
  {
   "cell_type": "code",
   "execution_count": 22,
   "metadata": {
    "colab": {
     "base_uri": "https://localhost:8080/"
    },
    "id": "Z-0pti17gXGu",
    "outputId": "58a21a23-bd7e-4f19-8e36-1049cfb2da88"
   },
   "outputs": [
    {
     "data": {
      "text/plain": [
       "((2058108, 78), (514527, 78), (2058108,), (514527,))"
      ]
     },
     "execution_count": 22,
     "metadata": {},
     "output_type": "execute_result"
    }
   ],
   "source": [
    "X_train, X_test, y_train, y_test = train_test_split(X,y, test_size=.2)\n",
    "\n",
    "X_train.shape, X_test.shape, y_train.shape, y_test.shape"
   ]
  },
  {
   "cell_type": "code",
   "execution_count": 23,
   "metadata": {
    "id": "CcCBTryNMNrW"
   },
   "outputs": [],
   "source": [
    "del X\n",
    "del y"
   ]
  },
  {
   "cell_type": "code",
   "execution_count": 24,
   "metadata": {
    "id": "PmUTeLOjgXMT"
   },
   "outputs": [],
   "source": [
    "unique, counts = np.unique(y_test, return_counts=True)"
   ]
  },
  {
   "cell_type": "code",
   "execution_count": 25,
   "metadata": {
    "colab": {
     "base_uri": "https://localhost:8080/"
    },
    "id": "fOnESkWY-IF4",
    "outputId": "4c2b87bd-4f50-4c69-8678-3f8ff364c947"
   },
   "outputs": [
    {
     "data": {
      "text/plain": [
       "(array([ 0,  1,  2,  3,  4,  5,  6,  7,  8,  9, 10, 11, 12, 13, 14]),\n",
       " array([34188, 34629, 34519, 34629, 34354, 34046, 34567, 34297, 34065,\n",
       "        34304, 34438, 33969, 34106, 34120, 34296]))"
      ]
     },
     "execution_count": 25,
     "metadata": {},
     "output_type": "execute_result"
    }
   ],
   "source": [
    "unique , counts"
   ]
  },
  {
   "cell_type": "code",
   "execution_count": 26,
   "metadata": {
    "id": "M333sejigXR0"
   },
   "outputs": [
    {
     "name": "stdout",
     "output_type": "stream",
     "text": [
      "WARNING:tensorflow:From /home/shailesh/.local/lib/python3.6/site-packages/tensorflow/python/ops/init_ops.py:1251: calling VarianceScaling.__init__ (from tensorflow.python.ops.init_ops) with dtype is deprecated and will be removed in a future version.\n",
      "Instructions for updating:\n",
      "Call initializer instance with the dtype argument instead of passing it to the constructor\n"
     ]
    }
   ],
   "source": [
    "model = tf.keras.models.Sequential([\n",
    "    \n",
    "    tf.keras.layers.Flatten(input_shape=(78,)),\n",
    "    tf.keras.layers.Dense(67, activation='relu'),\n",
    "    tf.keras.layers.Dropout(0.2),\n",
    "    tf.keras.layers.Dense(15, activation='softmax')\n",
    "])"
   ]
  },
  {
   "cell_type": "code",
   "execution_count": 27,
   "metadata": {
    "id": "HQkWifE1hrPp"
   },
   "outputs": [],
   "source": [
    "from tensorflow.keras.optimizers import Adam\n",
    "#compile the model\n",
    "opt=Adam(clipnorm=1)\n",
    "model.compile(optimizer=opt,\n",
    "             loss='sparse_categorical_crossentropy',\n",
    "            \n",
    "             metrics=['accuracy'])"
   ]
  },
  {
   "cell_type": "code",
   "execution_count": 28,
   "metadata": {
    "colab": {
     "base_uri": "https://localhost:8080/"
    },
    "id": "Kd2ymW6bhv1p",
    "outputId": "0da0c762-3270-44d2-eea7-174178518d3e"
   },
   "outputs": [
    {
     "data": {
      "text/plain": [
       "array([12,  8,  4, ...,  8, 14,  7])"
      ]
     },
     "execution_count": 28,
     "metadata": {},
     "output_type": "execute_result"
    }
   ],
   "source": [
    "y_train"
   ]
  },
  {
   "cell_type": "code",
   "execution_count": null,
   "metadata": {
    "id": "Q3X-_wpz4Lb5"
   },
   "outputs": [],
   "source": [
    "\n"
   ]
  },
  {
   "cell_type": "code",
   "execution_count": 29,
   "metadata": {
    "colab": {
     "base_uri": "https://localhost:8080/"
    },
    "id": "NZNhUKVkh9g5",
    "outputId": "bbb393fb-cf73-4adc-f290-ac9ee8582ec8"
   },
   "outputs": [
    {
     "name": "stdout",
     "output_type": "stream",
     "text": [
      "WARNING:tensorflow:From /home/shailesh/.local/lib/python3.6/site-packages/tensorflow/python/ops/clip_ops.py:157: add_dispatch_support.<locals>.wrapper (from tensorflow.python.ops.array_ops) is deprecated and will be removed in a future version.\n",
      "Instructions for updating:\n",
      "Use tf.where in 2.0, which has the same broadcast rule as np.where\n",
      "Epoch 1/10\n",
      "2058108/2058108 [==============================] - 68s 33us/sample - loss: 871.4107 - acc: 0.7277\n",
      "Epoch 2/10\n",
      "2058108/2058108 [==============================] - 67s 33us/sample - loss: 2.1715 - acc: 0.7571\n",
      "Epoch 3/10\n",
      "2058108/2058108 [==============================] - 67s 33us/sample - loss: 1.4992 - acc: 0.7660\n",
      "Epoch 4/10\n",
      "2058108/2058108 [==============================] - 67s 33us/sample - loss: 1.4089 - acc: 0.7699\n",
      "Epoch 5/10\n",
      "2058108/2058108 [==============================] - 67s 33us/sample - loss: 1.4152 - acc: 0.7720\n",
      "Epoch 6/10\n",
      "2058108/2058108 [==============================] - 67s 33us/sample - loss: 1.6861 - acc: 0.7731\n",
      "Epoch 7/10\n",
      "2058108/2058108 [==============================] - 68s 33us/sample - loss: 1.4343 - acc: 0.7746\n",
      "Epoch 8/10\n",
      "2058108/2058108 [==============================] - 67s 33us/sample - loss: 1.5808 - acc: 0.7748\n",
      "Epoch 9/10\n",
      "2058108/2058108 [==============================] - 67s 33us/sample - loss: 1.6449 - acc: 0.7777\n",
      "Epoch 10/10\n",
      "2058108/2058108 [==============================] - 67s 32us/sample - loss: 1.4221 - acc: 0.7891\n"
     ]
    }
   ],
   "source": [
    "var = model.fit(X_train,\n",
    "          y_train,\n",
    "          epochs=10\n",
    "          )"
   ]
  },
  {
   "cell_type": "code",
   "execution_count": null,
   "metadata": {
    "id": "MUFyoJ6b2Np0"
   },
   "outputs": [],
   "source": []
  },
  {
   "cell_type": "code",
   "execution_count": 30,
   "metadata": {
    "id": "cU0_IRArlgxk"
   },
   "outputs": [],
   "source": [
    "y_prob = model.predict(X_test)\n",
    "y_pred = y_prob.argmax(axis=1)"
   ]
  },
  {
   "cell_type": "code",
   "execution_count": 31,
   "metadata": {
    "colab": {
     "base_uri": "https://localhost:8080/"
    },
    "id": "8p5h_dmFp5oo",
    "outputId": "21fd83b9-2e14-419c-afe8-b262d4430745"
   },
   "outputs": [
    {
     "data": {
      "text/plain": [
       "array([ 0,  4,  0, ..., 11, 10,  6])"
      ]
     },
     "execution_count": 31,
     "metadata": {},
     "output_type": "execute_result"
    }
   ],
   "source": [
    "y_pred"
   ]
  },
  {
   "cell_type": "code",
   "execution_count": null,
   "metadata": {
    "id": "Pk0LVfK2p5oo"
   },
   "outputs": [],
   "source": []
  },
  {
   "cell_type": "code",
   "execution_count": 32,
   "metadata": {
    "colab": {
     "base_uri": "https://localhost:8080/"
    },
    "id": "XMfuxvtHiSE2",
    "outputId": "6e32706a-7e7c-4d0a-ddc9-a64a58ac134b"
   },
   "outputs": [
    {
     "name": "stdout",
     "output_type": "stream",
     "text": [
      "514527/514527 - 6s - loss: 0.7168 - acc: 0.8049\n"
     ]
    },
    {
     "data": {
      "text/plain": [
       "[0.7167563456461639, 0.8049471]"
      ]
     },
     "execution_count": 32,
     "metadata": {},
     "output_type": "execute_result"
    }
   ],
   "source": [
    "# Evaluating model accuracy.\n",
    "model.evaluate(X_test, y_test, verbose=2)"
   ]
  },
  {
   "cell_type": "code",
   "execution_count": null,
   "metadata": {
    "id": "_LGcrOaRp5op"
   },
   "outputs": [],
   "source": []
  },
  {
   "cell_type": "code",
   "execution_count": 33,
   "metadata": {
    "colab": {
     "base_uri": "https://localhost:8080/"
    },
    "id": "TvGWDO8Qp5op",
    "outputId": "008ffdae-b185-4db6-b467-607f5dbd0edc"
   },
   "outputs": [
    {
     "name": "stdout",
     "output_type": "stream",
     "text": [
      "              precision    recall  f1-score   support\n",
      "\n",
      "           0       0.99      0.76      0.86     34188\n",
      "           1       0.97      1.00      0.99     34629\n",
      "           2       0.98      0.90      0.94     34519\n",
      "           3       0.97      0.70      0.81     34629\n",
      "           4       0.99      0.97      0.98     34354\n",
      "           5       0.99      0.25      0.40     34046\n",
      "           6       0.34      0.99      0.51     34567\n",
      "           7       1.00      1.00      1.00     34297\n",
      "           8       1.00      1.00      1.00     34065\n",
      "           9       0.97      0.39      0.55     34304\n",
      "          10       0.98      0.99      0.99     34438\n",
      "          11       0.99      0.98      0.99     33969\n",
      "          12       0.92      0.16      0.28     34106\n",
      "          13       0.94      1.00      0.97     34120\n",
      "          14       0.55      0.97      0.70     34296\n",
      "\n",
      "    accuracy                           0.80    514527\n",
      "   macro avg       0.90      0.80      0.80    514527\n",
      "weighted avg       0.90      0.80      0.80    514527\n",
      "\n"
     ]
    }
   ],
   "source": [
    "from sklearn.metrics import classification_report\n",
    "print(classification_report(y_test,y_pred))"
   ]
  },
  {
   "cell_type": "code",
   "execution_count": 34,
   "metadata": {
    "id": "tkW0zuR8ixp3"
   },
   "outputs": [],
   "source": [
    "# Saving the model.\n",
    "\n",
    "model.save('IDS_model_NN.h5')"
   ]
  },
  {
   "cell_type": "code",
   "execution_count": null,
   "metadata": {
    "id": "5l6kl51yiz55"
   },
   "outputs": [],
   "source": [
    "# !kill -9 -1"
   ]
  },
  {
   "cell_type": "code",
   "execution_count": 91,
   "metadata": {},
   "outputs": [
    {
     "data": {
      "image/png": "[encoded data removed]",
      "text/plain": [
       "<Figure size 432x288 with 1 Axes>"
      ]
     },
     "metadata": {
      "needs_background": "light"
     },
     "output_type": "display_data"
    },
    {
     "data": {
      "text/plain": [
       "<Figure size 432x288 with 0 Axes>"
      ]
     },
     "metadata": {},
     "output_type": "display_data"
    }
   ],
   "source": [
    "plt.plot(var.history['loss'])\n",
    "plt.xlabel('epochs')\n",
    "plt.ylabel('Loss')\n",
    "plt.show()\n",
    "plt.savefig('NN_loss.jpg')\n",
    "# plt.savefig('foo.png')"
   ]
  },
  {
   "cell_type": "code",
   "execution_count": 92,
   "metadata": {},
   "outputs": [
    {
     "data": {
      "image/png": "[encoded data removed]",
      "text/plain": [
       "<Figure size 432x288 with 1 Axes>"
      ]
     },
     "metadata": {
      "needs_background": "light"
     },
     "output_type": "display_data"
    },
    {
     "data": {
      "text/plain": [
       "<Figure size 432x288 with 0 Axes>"
      ]
     },
     "metadata": {},
     "output_type": "display_data"
    }
   ],
   "source": [
    "plt.plot(var.history['acc'])\n",
    "plt.xlabel('epochs')\n",
    "plt.ylabel('accuracy')\n",
    "plt.show()\n",
    "plt.savefig('NN_accuracy.jpg')"
   ]
  },
  {
   "cell_type": "code",
   "execution_count": null,
   "metadata": {},
   "outputs": [],
   "source": []
  },
  {
   "cell_type": "markdown",
   "metadata": {},
   "source": [
    "Rough - Analysing the dataset"
   ]
  },
  {
   "cell_type": "code",
   "execution_count": 60,
   "metadata": {},
   "outputs": [],
   "source": [
    "desc_data = dataset.describe()"
   ]
  },
  {
   "cell_type": "code",
   "execution_count": 61,
   "metadata": {},
   "outputs": [
    {
     "data": {
      "text/plain": [
       "pandas.core.frame.DataFrame"
      ]
     },
     "execution_count": 61,
     "metadata": {},
     "output_type": "execute_result"
    }
   ],
   "source": [
    "type(desc_data)"
   ]
  },
  {
   "cell_type": "code",
   "execution_count": 62,
   "metadata": {},
   "outputs": [
    {
     "data": {
      "text/html": [
       "<div>\n",
       "<style scoped>\n",
       "    .dataframe tbody tr th:only-of-type {\n",
       "        vertical-align: middle;\n",
       "    }\n",
       "\n",
       "    .dataframe tbody tr th {\n",
       "        vertical-align: top;\n",
       "    }\n",
       "\n",
       "    .dataframe thead th {\n",
       "        text-align: right;\n",
       "    }\n",
       "</style>\n",
       "<table border=\"1\" class=\"dataframe\">\n",
       "  <thead>\n",
       "    <tr style=\"text-align: right;\">\n",
       "      <th></th>\n",
       "      <th>Destination Port</th>\n",
       "      <th>Flow Duration</th>\n",
       "      <th>Total Fwd Packets</th>\n",
       "      <th>Total Backward Packets</th>\n",
       "      <th>Total Length of Fwd Packets</th>\n",
       "      <th>Total Length of Bwd Packets</th>\n",
       "      <th>Fwd Packet Length Max</th>\n",
       "      <th>Fwd Packet Length Min</th>\n",
       "      <th>Fwd Packet Length Mean</th>\n",
       "      <th>Fwd Packet Length Std</th>\n",
       "      <th>...</th>\n",
       "      <th>act_data_pkt_fwd</th>\n",
       "      <th>min_seg_size_forward</th>\n",
       "      <th>Active Mean</th>\n",
       "      <th>Active Std</th>\n",
       "      <th>Active Max</th>\n",
       "      <th>Active Min</th>\n",
       "      <th>Idle Mean</th>\n",
       "      <th>Idle Std</th>\n",
       "      <th>Idle Max</th>\n",
       "      <th>Idle Min</th>\n",
       "    </tr>\n",
       "  </thead>\n",
       "  <tbody>\n",
       "    <tr>\n",
       "      <th>count</th>\n",
       "      <td>2.425727e+06</td>\n",
       "      <td>2.425727e+06</td>\n",
       "      <td>2.425727e+06</td>\n",
       "      <td>2.425727e+06</td>\n",
       "      <td>2.425727e+06</td>\n",
       "      <td>2.425727e+06</td>\n",
       "      <td>2.425727e+06</td>\n",
       "      <td>2.425727e+06</td>\n",
       "      <td>2.425727e+06</td>\n",
       "      <td>2.425727e+06</td>\n",
       "      <td>...</td>\n",
       "      <td>2.425727e+06</td>\n",
       "      <td>2.425727e+06</td>\n",
       "      <td>2.425727e+06</td>\n",
       "      <td>2.425727e+06</td>\n",
       "      <td>2.425727e+06</td>\n",
       "      <td>2.425727e+06</td>\n",
       "      <td>2.425727e+06</td>\n",
       "      <td>2.425727e+06</td>\n",
       "      <td>2.425727e+06</td>\n",
       "      <td>2.425727e+06</td>\n",
       "    </tr>\n",
       "    <tr>\n",
       "      <th>mean</th>\n",
       "      <td>8.872826e+03</td>\n",
       "      <td>1.723340e+07</td>\n",
       "      <td>1.062010e+01</td>\n",
       "      <td>1.197819e+01</td>\n",
       "      <td>6.341473e+02</td>\n",
       "      <td>1.885255e+04</td>\n",
       "      <td>2.394870e+02</td>\n",
       "      <td>1.917622e+01</td>\n",
       "      <td>6.520192e+01</td>\n",
       "      <td>8.033692e+01</td>\n",
       "      <td>...</td>\n",
       "      <td>6.222595e+00</td>\n",
       "      <td>-3.204140e+03</td>\n",
       "      <td>9.516769e+04</td>\n",
       "      <td>4.800215e+04</td>\n",
       "      <td>1.787589e+05</td>\n",
       "      <td>6.802929e+04</td>\n",
       "      <td>9.702533e+06</td>\n",
       "      <td>5.879692e+05</td>\n",
       "      <td>1.014565e+07</td>\n",
       "      <td>9.240407e+06</td>\n",
       "    </tr>\n",
       "    <tr>\n",
       "      <th>std</th>\n",
       "      <td>1.924661e+04</td>\n",
       "      <td>3.575738e+07</td>\n",
       "      <td>8.098363e+02</td>\n",
       "      <td>1.077433e+03</td>\n",
       "      <td>1.079310e+04</td>\n",
       "      <td>2.444719e+06</td>\n",
       "      <td>7.698434e+02</td>\n",
       "      <td>6.151951e+01</td>\n",
       "      <td>1.990128e+02</td>\n",
       "      <td>3.022424e+02</td>\n",
       "      <td>...</td>\n",
       "      <td>6.875032e+02</td>\n",
       "      <td>1.172073e+06</td>\n",
       "      <td>6.997328e+05</td>\n",
       "      <td>4.245672e+05</td>\n",
       "      <td>1.106095e+06</td>\n",
       "      <td>6.228798e+05</td>\n",
       "      <td>2.525950e+07</td>\n",
       "      <td>4.967455e+06</td>\n",
       "      <td>2.603948e+07</td>\n",
       "      <td>2.499339e+07</td>\n",
       "    </tr>\n",
       "    <tr>\n",
       "      <th>min</th>\n",
       "      <td>0.000000e+00</td>\n",
       "      <td>-1.300000e+01</td>\n",
       "      <td>1.000000e+00</td>\n",
       "      <td>0.000000e+00</td>\n",
       "      <td>0.000000e+00</td>\n",
       "      <td>0.000000e+00</td>\n",
       "      <td>0.000000e+00</td>\n",
       "      <td>0.000000e+00</td>\n",
       "      <td>0.000000e+00</td>\n",
       "      <td>0.000000e+00</td>\n",
       "      <td>...</td>\n",
       "      <td>0.000000e+00</td>\n",
       "      <td>-5.368707e+08</td>\n",
       "      <td>0.000000e+00</td>\n",
       "      <td>0.000000e+00</td>\n",
       "      <td>0.000000e+00</td>\n",
       "      <td>0.000000e+00</td>\n",
       "      <td>0.000000e+00</td>\n",
       "      <td>0.000000e+00</td>\n",
       "      <td>0.000000e+00</td>\n",
       "      <td>0.000000e+00</td>\n",
       "    </tr>\n",
       "    <tr>\n",
       "      <th>25%</th>\n",
       "      <td>5.300000e+01</td>\n",
       "      <td>2.360000e+02</td>\n",
       "      <td>2.000000e+00</td>\n",
       "      <td>1.000000e+00</td>\n",
       "      <td>2.400000e+01</td>\n",
       "      <td>6.000000e+00</td>\n",
       "      <td>6.000000e+00</td>\n",
       "      <td>0.000000e+00</td>\n",
       "      <td>6.000000e+00</td>\n",
       "      <td>0.000000e+00</td>\n",
       "      <td>...</td>\n",
       "      <td>0.000000e+00</td>\n",
       "      <td>2.000000e+01</td>\n",
       "      <td>0.000000e+00</td>\n",
       "      <td>0.000000e+00</td>\n",
       "      <td>0.000000e+00</td>\n",
       "      <td>0.000000e+00</td>\n",
       "      <td>0.000000e+00</td>\n",
       "      <td>0.000000e+00</td>\n",
       "      <td>0.000000e+00</td>\n",
       "      <td>0.000000e+00</td>\n",
       "    </tr>\n",
       "    <tr>\n",
       "      <th>50%</th>\n",
       "      <td>8.000000e+01</td>\n",
       "      <td>6.051800e+04</td>\n",
       "      <td>2.000000e+00</td>\n",
       "      <td>2.000000e+00</td>\n",
       "      <td>6.800000e+01</td>\n",
       "      <td>1.620000e+02</td>\n",
       "      <td>4.100000e+01</td>\n",
       "      <td>2.000000e+00</td>\n",
       "      <td>3.700000e+01</td>\n",
       "      <td>0.000000e+00</td>\n",
       "      <td>...</td>\n",
       "      <td>1.000000e+00</td>\n",
       "      <td>2.000000e+01</td>\n",
       "      <td>0.000000e+00</td>\n",
       "      <td>0.000000e+00</td>\n",
       "      <td>0.000000e+00</td>\n",
       "      <td>0.000000e+00</td>\n",
       "      <td>0.000000e+00</td>\n",
       "      <td>0.000000e+00</td>\n",
       "      <td>0.000000e+00</td>\n",
       "      <td>0.000000e+00</td>\n",
       "    </tr>\n",
       "    <tr>\n",
       "      <th>75%</th>\n",
       "      <td>4.430000e+02</td>\n",
       "      <td>5.562252e+06</td>\n",
       "      <td>6.000000e+00</td>\n",
       "      <td>5.000000e+00</td>\n",
       "      <td>3.470000e+02</td>\n",
       "      <td>1.596000e+03</td>\n",
       "      <td>2.280000e+02</td>\n",
       "      <td>3.700000e+01</td>\n",
       "      <td>5.300000e+01</td>\n",
       "      <td>7.868654e+01</td>\n",
       "      <td>...</td>\n",
       "      <td>3.000000e+00</td>\n",
       "      <td>3.200000e+01</td>\n",
       "      <td>0.000000e+00</td>\n",
       "      <td>0.000000e+00</td>\n",
       "      <td>0.000000e+00</td>\n",
       "      <td>0.000000e+00</td>\n",
       "      <td>0.000000e+00</td>\n",
       "      <td>0.000000e+00</td>\n",
       "      <td>0.000000e+00</td>\n",
       "      <td>0.000000e+00</td>\n",
       "    </tr>\n",
       "    <tr>\n",
       "      <th>max</th>\n",
       "      <td>6.553500e+04</td>\n",
       "      <td>1.200000e+08</td>\n",
       "      <td>2.197590e+05</td>\n",
       "      <td>2.919220e+05</td>\n",
       "      <td>1.290000e+07</td>\n",
       "      <td>6.554530e+08</td>\n",
       "      <td>2.482000e+04</td>\n",
       "      <td>2.325000e+03</td>\n",
       "      <td>5.940857e+03</td>\n",
       "      <td>7.125597e+03</td>\n",
       "      <td>...</td>\n",
       "      <td>2.135570e+05</td>\n",
       "      <td>1.380000e+02</td>\n",
       "      <td>1.100000e+08</td>\n",
       "      <td>7.420000e+07</td>\n",
       "      <td>1.100000e+08</td>\n",
       "      <td>1.100000e+08</td>\n",
       "      <td>1.200000e+08</td>\n",
       "      <td>7.690000e+07</td>\n",
       "      <td>1.200000e+08</td>\n",
       "      <td>1.200000e+08</td>\n",
       "    </tr>\n",
       "  </tbody>\n",
       "</table>\n",
       "<p>8 rows × 78 columns</p>\n",
       "</div>"
      ],
      "text/plain": [
       "       Destination Port  Flow Duration  Total Fwd Packets  \\\n",
       "count      2.425727e+06   2.425727e+06       2.425727e+06   \n",
       "mean       8.872826e+03   1.723340e+07       1.062010e+01   \n",
       "std        1.924661e+04   3.575738e+07       8.098363e+02   \n",
       "min        0.000000e+00  -1.300000e+01       1.000000e+00   \n",
       "25%        5.300000e+01   2.360000e+02       2.000000e+00   \n",
       "50%        8.000000e+01   6.051800e+04       2.000000e+00   \n",
       "75%        4.430000e+02   5.562252e+06       6.000000e+00   \n",
       "max        6.553500e+04   1.200000e+08       2.197590e+05   \n",
       "\n",
       "       Total Backward Packets  Total Length of Fwd Packets  \\\n",
       "count            2.425727e+06                 2.425727e+06   \n",
       "mean             1.197819e+01                 6.341473e+02   \n",
       "std              1.077433e+03                 1.079310e+04   \n",
       "min              0.000000e+00                 0.000000e+00   \n",
       "25%              1.000000e+00                 2.400000e+01   \n",
       "50%              2.000000e+00                 6.800000e+01   \n",
       "75%              5.000000e+00                 3.470000e+02   \n",
       "max              2.919220e+05                 1.290000e+07   \n",
       "\n",
       "       Total Length of Bwd Packets  Fwd Packet Length Max  \\\n",
       "count                 2.425727e+06           2.425727e+06   \n",
       "mean                  1.885255e+04           2.394870e+02   \n",
       "std                   2.444719e+06           7.698434e+02   \n",
       "min                   0.000000e+00           0.000000e+00   \n",
       "25%                   6.000000e+00           6.000000e+00   \n",
       "50%                   1.620000e+02           4.100000e+01   \n",
       "75%                   1.596000e+03           2.280000e+02   \n",
       "max                   6.554530e+08           2.482000e+04   \n",
       "\n",
       "       Fwd Packet Length Min  Fwd Packet Length Mean  Fwd Packet Length Std  \\\n",
       "count           2.425727e+06            2.425727e+06           2.425727e+06   \n",
       "mean            1.917622e+01            6.520192e+01           8.033692e+01   \n",
       "std             6.151951e+01            1.990128e+02           3.022424e+02   \n",
       "min             0.000000e+00            0.000000e+00           0.000000e+00   \n",
       "25%             0.000000e+00            6.000000e+00           0.000000e+00   \n",
       "50%             2.000000e+00            3.700000e+01           0.000000e+00   \n",
       "75%             3.700000e+01            5.300000e+01           7.868654e+01   \n",
       "max             2.325000e+03            5.940857e+03           7.125597e+03   \n",
       "\n",
       "       ...  act_data_pkt_fwd  min_seg_size_forward   Active Mean  \\\n",
       "count  ...      2.425727e+06          2.425727e+06  2.425727e+06   \n",
       "mean   ...      6.222595e+00         -3.204140e+03  9.516769e+04   \n",
       "std    ...      6.875032e+02          1.172073e+06  6.997328e+05   \n",
       "min    ...      0.000000e+00         -5.368707e+08  0.000000e+00   \n",
       "25%    ...      0.000000e+00          2.000000e+01  0.000000e+00   \n",
       "50%    ...      1.000000e+00          2.000000e+01  0.000000e+00   \n",
       "75%    ...      3.000000e+00          3.200000e+01  0.000000e+00   \n",
       "max    ...      2.135570e+05          1.380000e+02  1.100000e+08   \n",
       "\n",
       "         Active Std    Active Max    Active Min     Idle Mean      Idle Std  \\\n",
       "count  2.425727e+06  2.425727e+06  2.425727e+06  2.425727e+06  2.425727e+06   \n",
       "mean   4.800215e+04  1.787589e+05  6.802929e+04  9.702533e+06  5.879692e+05   \n",
       "std    4.245672e+05  1.106095e+06  6.228798e+05  2.525950e+07  4.967455e+06   \n",
       "min    0.000000e+00  0.000000e+00  0.000000e+00  0.000000e+00  0.000000e+00   \n",
       "25%    0.000000e+00  0.000000e+00  0.000000e+00  0.000000e+00  0.000000e+00   \n",
       "50%    0.000000e+00  0.000000e+00  0.000000e+00  0.000000e+00  0.000000e+00   \n",
       "75%    0.000000e+00  0.000000e+00  0.000000e+00  0.000000e+00  0.000000e+00   \n",
       "max    7.420000e+07  1.100000e+08  1.100000e+08  1.200000e+08  7.690000e+07   \n",
       "\n",
       "           Idle Max      Idle Min  \n",
       "count  2.425727e+06  2.425727e+06  \n",
       "mean   1.014565e+07  9.240407e+06  \n",
       "std    2.603948e+07  2.499339e+07  \n",
       "min    0.000000e+00  0.000000e+00  \n",
       "25%    0.000000e+00  0.000000e+00  \n",
       "50%    0.000000e+00  0.000000e+00  \n",
       "75%    0.000000e+00  0.000000e+00  \n",
       "max    1.200000e+08  1.200000e+08  \n",
       "\n",
       "[8 rows x 78 columns]"
      ]
     },
     "execution_count": 62,
     "metadata": {},
     "output_type": "execute_result"
    }
   ],
   "source": [
    "desc_data"
   ]
  },
  {
   "cell_type": "code",
   "execution_count": 66,
   "metadata": {},
   "outputs": [],
   "source": [
    "mean_array = np.array(desc_data.loc['mean'])"
   ]
  },
  {
   "cell_type": "code",
   "execution_count": 68,
   "metadata": {},
   "outputs": [],
   "source": [
    "column_array = desc_data.columns"
   ]
  },
  {
   "cell_type": "code",
   "execution_count": 69,
   "metadata": {},
   "outputs": [
    {
     "data": {
      "text/plain": [
       "Index(['Destination Port', 'Flow Duration', 'Total Fwd Packets',\n",
       "       'Total Backward Packets', 'Total Length of Fwd Packets',\n",
       "       'Total Length of Bwd Packets', 'Fwd Packet Length Max',\n",
       "       'Fwd Packet Length Min', 'Fwd Packet Length Mean',\n",
       "       'Fwd Packet Length Std', 'Bwd Packet Length Max',\n",
       "       'Bwd Packet Length Min', 'Bwd Packet Length Mean',\n",
       "       'Bwd Packet Length Std', 'Flow Bytes/s', 'Flow Packets/s',\n",
       "       'Flow IAT Mean', 'Flow IAT Std', 'Flow IAT Max', 'Flow IAT Min',\n",
       "       'Fwd IAT Total', 'Fwd IAT Mean', 'Fwd IAT Std', 'Fwd IAT Max',\n",
       "       'Fwd IAT Min', 'Bwd IAT Total', 'Bwd IAT Mean', 'Bwd IAT Std',\n",
       "       'Bwd IAT Max', 'Bwd IAT Min', 'Fwd PSH Flags', 'Bwd PSH Flags',\n",
       "       'Fwd URG Flags', 'Bwd URG Flags', 'Fwd Header Length',\n",
       "       'Bwd Header Length', 'Fwd Packets/s', 'Bwd Packets/s',\n",
       "       'Min Packet Length', 'Max Packet Length', 'Packet Length Mean',\n",
       "       'Packet Length Std', 'Packet Length Variance', 'FIN Flag Count',\n",
       "       'SYN Flag Count', 'RST Flag Count', 'PSH Flag Count', 'ACK Flag Count',\n",
       "       'URG Flag Count', 'CWE Flag Count', 'ECE Flag Count', 'Down/Up Ratio',\n",
       "       'Average Packet Size', 'Avg Fwd Segment Size', 'Avg Bwd Segment Size',\n",
       "       'Fwd Header Length.1', 'Fwd Avg Bytes/Bulk', 'Fwd Avg Packets/Bulk',\n",
       "       'Fwd Avg Bulk Rate', 'Bwd Avg Bytes/Bulk', 'Bwd Avg Packets/Bulk',\n",
       "       'Bwd Avg Bulk Rate', 'Subflow Fwd Packets', 'Subflow Fwd Bytes',\n",
       "       'Subflow Bwd Packets', 'Subflow Bwd Bytes', 'Init_Win_bytes_forward',\n",
       "       'Init_Win_bytes_backward', 'act_data_pkt_fwd', 'min_seg_size_forward',\n",
       "       'Active Mean', 'Active Std', 'Active Max', 'Active Min', 'Idle Mean',\n",
       "       'Idle Std', 'Idle Max', 'Idle Min'],\n",
       "      dtype='object')"
      ]
     },
     "execution_count": 69,
     "metadata": {},
     "output_type": "execute_result"
    }
   ],
   "source": [
    "column_array"
   ]
  },
  {
   "cell_type": "code",
   "execution_count": 72,
   "metadata": {},
   "outputs": [
    {
     "data": {
      "text/plain": [
       "79"
      ]
     },
     "execution_count": 72,
     "metadata": {},
     "output_type": "execute_result"
    }
   ],
   "source": [
    "mystr=\"22\t1303488\t41\t42\t2728\t6634\t456\t0\t66.53658537\t110.1299454\t976\t0\t157.952381\t319.1214275\t7182.267884\t63.6753081\t15896.19512\t106554.899\t956551\t0\t1303488\t32587.2\t160397.0499\t997357\t1\t346851\t8459.780488\t23962.23892\t138295\t0\t0\t0\t0\t0\t1328\t1360\t31.45406785\t32.22124024\t0\t976\t111.452381\t241.6427915\t58391.23867\t0\t0\t0\t1\t0\t0\t0\t0\t1\t112.7951807\t66.53658537\t157.952381\t1328\t0\t0\t0\t0\t0\t0\t41\t2728\t42\t6634\t29200\t243\t24\t32\t0\t0\t0\t0\t0\t0\t0\t0\tBENIGN\"\n",
    "mystr=mystr.split('\\t')\n",
    "len(mystr)"
   ]
  },
  {
   "cell_type": "code",
   "execution_count": 74,
   "metadata": {},
   "outputs": [],
   "source": [
    "my_str = \"13.35.133.77\t172.27.30.190\t443\t57692\t6\t2022-04-18 19:42:54\t18712.9974365234\t28055.3664254408\t374.071552339211\t213.755172765263\t160.316379573948\t4\t3\t327\t198\t105\t66\t81.75\t16.6188898546203\t66\t66\t66\t0\t105\t66\t75\t14.7841614091374\t218.571428571429\t80\t60\t20\t2\t3118.83290608724\t18466.9494628906\t0.95367431640625\t6863.98558016872\t18712.9974365234\t18571.138381958\t0.95367431640625\t6237.66581217448\t8721.26924410281\t199.079513549805\t189.065933227539\t10.0135803222656\t99.5397567749023\t89.5261764526367\t0\t0\t0\t0\t1\t0\t0\t0\t0\t0\t0\t0.75\t75\t133\t501\t0\t0\t0\t0\t0\t0\t0\t0\t0\t0\t0\t0\t0\t0\t81.75\t66\t0\t4\t3\t327\t198\""
   ]
  },
  {
   "cell_type": "code",
   "execution_count": 75,
   "metadata": {},
   "outputs": [
    {
     "data": {
      "text/plain": [
       "82"
      ]
     },
     "execution_count": 75,
     "metadata": {},
     "output_type": "execute_result"
    }
   ],
   "source": [
    "len(my_str.split('\\t'))"
   ]
  },
  {
   "cell_type": "code",
   "execution_count": null,
   "metadata": {},
   "outputs": [],
   "source": [
    "df2"
   ]
  }
 ],
 "metadata": {
  "colab": {
   "collapsed_sections": [],
   "name": "Anamoly_detection_with_NN.ipynb",
   "provenance": []
  },
  "kernelspec": {
   "display_name": "Python 3",
   "language": "python",
   "name": "python3"
  },
  "language_info": {
   "codemirror_mode": {
    "name": "ipython",
    "version": 3
   },
   "file_extension": ".py",
   "mimetype": "text/x-python",
   "name": "python",
   "nbconvert_exporter": "python",
   "pygments_lexer": "ipython3",
   "version": "3.6.9"
  }
 },
 "nbformat": 4,
 "nbformat_minor": 1
}
