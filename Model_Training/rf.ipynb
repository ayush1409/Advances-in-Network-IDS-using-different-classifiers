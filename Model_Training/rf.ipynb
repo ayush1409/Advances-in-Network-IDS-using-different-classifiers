{
 "cells": [
  {
   "cell_type": "code",
   "execution_count": 1,
   "metadata": {
    "id": "P-zvPPpl6CGQ"
   },
   "outputs": [],
   "source": [
    "import pandas as pd\n",
    "import glob\n",
    "import re\n",
    "import numpy as np\n",
    "from sklearn.preprocessing import MinMaxScaler, StandardScaler, RobustScaler\n",
    "from sklearn.preprocessing import LabelEncoder\n",
    "from sklearn.model_selection import train_test_split\n",
    "import tensorflow as tf\n",
    "import datetime"
   ]
  },
  {
   "cell_type": "code",
   "execution_count": 2,
   "metadata": {
    "id": "wz5DFAFb7c92"
   },
   "outputs": [],
   "source": [
    "import pickle"
   ]
  },
  {
   "cell_type": "markdown",
   "metadata": {
    "id": "5l6kl51yiz55"
   },
   "source": [
    "### Random Forest Classifier"
   ]
  },
  {
   "cell_type": "code",
   "execution_count": 3,
   "metadata": {
    "id": "YjaKmEdyqcq_"
   },
   "outputs": [],
   "source": [
    "from sklearn.ensemble import RandomForestClassifier\n",
    "from sklearn.metrics import accuracy_score"
   ]
  },
  {
   "cell_type": "code",
   "execution_count": 4,
   "metadata": {
    "id": "AZOf2cRavtOa"
   },
   "outputs": [],
   "source": [
    "# #Reading Dataset\n",
    "# path = \"/content/drive/MyDrive/Colab Notebooks/Dataset_clean.csv\"\n",
    "# dataset = pd.read_csv(path)"
   ]
  },
  {
   "cell_type": "code",
   "execution_count": 5,
   "metadata": {
    "id": "7baxm6cVwgQk"
   },
   "outputs": [],
   "source": [
    "# newdf = pd.DataFrame()\n",
    "\n",
    "# #oversampling\n",
    "# category = dataset['Label'].unique()\n",
    "\n",
    "# for i in category:\n",
    "#     tmp = dataset[dataset['Label'] == i]\n",
    "#     val = tmp.shape[0]\n",
    "    \n",
    "#     tmp = tmp.sample(171509,replace=True)\n",
    "#     newdf = pd.concat([newdf,tmp],axis=0)\n",
    "    "
   ]
  },
  {
   "cell_type": "code",
   "execution_count": null,
   "metadata": {
    "id": "2RfDDRMLwkGy"
   },
   "outputs": [],
   "source": [
    "# dataset.shape,newdf.shape"
   ]
  },
  {
   "cell_type": "code",
   "execution_count": 6,
   "metadata": {
    "id": "nDfAd74D4U-X"
   },
   "outputs": [],
   "source": [
    "#pickle load\n",
    "X_file = open('feature_data', 'rb')\n",
    "X = pickle.load(X_file)   \n",
    "X_file.close()\n",
    "\n",
    "y_file = open('label_data', 'rb')\n",
    "y = pickle.load(y_file)   \n",
    "y_file.close()"
   ]
  },
  {
   "cell_type": "code",
   "execution_count": 7,
   "metadata": {
    "id": "LKar_aySqcq_"
   },
   "outputs": [],
   "source": [
    "clf = RandomForestClassifier(max_depth=2, random_state=0)"
   ]
  },
  {
   "cell_type": "code",
   "execution_count": 8,
   "metadata": {
    "colab": {
     "base_uri": "https://localhost:8080/",
     "height": 170
    },
    "id": "aV4TlkXJqcq_",
    "outputId": "1a1a9c84-eb5e-49cb-d516-b261b892cc24"
   },
   "outputs": [],
   "source": [
    "# data = np.c_[X, y]"
   ]
  },
  {
   "cell_type": "code",
   "execution_count": 9,
   "metadata": {
    "colab": {
     "base_uri": "https://localhost:8080/",
     "height": 170
    },
    "id": "N3ltDeXJqcq_",
    "outputId": "438ac215-b157-4ef0-986c-09d43b74f892"
   },
   "outputs": [],
   "source": [
    "# data.shape"
   ]
  },
  {
   "cell_type": "code",
   "execution_count": 10,
   "metadata": {
    "id": "26VbG2wWqcq_"
   },
   "outputs": [],
   "source": [
    "# data = data[~np.isnan(data).any(axis=1), :]"
   ]
  },
  {
   "cell_type": "code",
   "execution_count": 11,
   "metadata": {
    "id": "KdgWTM7Tqcq_",
    "outputId": "7f9ba7d3-fca7-4d7f-f6fc-eea67b45207e"
   },
   "outputs": [],
   "source": [
    "# data.astype('float64')"
   ]
  },
  {
   "cell_type": "code",
   "execution_count": 12,
   "metadata": {
    "id": "GtqmGLYiqcrA",
    "outputId": "9d282eaa-be53-47eb-a249-b6cfd94bd2be"
   },
   "outputs": [],
   "source": [
    "# data.shape"
   ]
  },
  {
   "cell_type": "code",
   "execution_count": 13,
   "metadata": {
    "id": "ExtIkqN0qcrA"
   },
   "outputs": [],
   "source": [
    "# X = data[:,:-1]\n",
    "# y = data[:,-1]"
   ]
  },
  {
   "cell_type": "code",
   "execution_count": 14,
   "metadata": {
    "colab": {
     "base_uri": "https://localhost:8080/"
    },
    "id": "EOPYP2L5qcrA",
    "outputId": "10caa880-61d3-44dd-9388-0d9587224252"
   },
   "outputs": [
    {
     "data": {
      "text/plain": [
       "((2058108, 78), (514527, 78), (2058108,), (514527,))"
      ]
     },
     "execution_count": 14,
     "metadata": {},
     "output_type": "execute_result"
    }
   ],
   "source": [
    "X_train, X_test, y_train, y_test = train_test_split(X,y, test_size=.2)\n",
    "\n",
    "X_train.shape, X_test.shape, y_train.shape, y_test.shape"
   ]
  },
  {
   "cell_type": "code",
   "execution_count": 15,
   "metadata": {
    "colab": {
     "base_uri": "https://localhost:8080/"
    },
    "id": "4uewWfSsqcrA",
    "outputId": "2c659001-367a-4402-ba31-4326a5b0934f"
   },
   "outputs": [
    {
     "data": {
      "text/plain": [
       "RandomForestClassifier(max_depth=2, random_state=0)"
      ]
     },
     "execution_count": 15,
     "metadata": {},
     "output_type": "execute_result"
    }
   ],
   "source": [
    "clf.fit(X_train, y_train)"
   ]
  },
  {
   "cell_type": "markdown",
   "metadata": {
    "id": "zli-0Zr7qcrA"
   },
   "source": [
    "#### Accuracy: RF"
   ]
  },
  {
   "cell_type": "code",
   "execution_count": 16,
   "metadata": {
    "id": "1RtDdf0_qcrB"
   },
   "outputs": [],
   "source": [
    "y_pred = clf.predict(X_test)"
   ]
  },
  {
   "cell_type": "code",
   "execution_count": 17,
   "metadata": {
    "colab": {
     "base_uri": "https://localhost:8080/"
    },
    "id": "oI38yBE4qcrB",
    "outputId": "efef9fea-6be8-41b1-d717-af625886a834"
   },
   "outputs": [
    {
     "data": {
      "text/plain": [
       "0.6312924297461552"
      ]
     },
     "execution_count": 17,
     "metadata": {},
     "output_type": "execute_result"
    }
   ],
   "source": [
    "accuracy_score(y_test, y_pred)"
   ]
  },
  {
   "cell_type": "code",
   "execution_count": 18,
   "metadata": {
    "colab": {
     "base_uri": "https://localhost:8080/"
    },
    "id": "L9qQjun96gO0",
    "outputId": "65a68d3f-ed9b-4cc1-b9a2-23d06f0b36aa"
   },
   "outputs": [
    {
     "name": "stderr",
     "output_type": "stream",
     "text": [
      "/home/shailesh/.local/lib/python3.6/site-packages/sklearn/metrics/_classification.py:1248: UndefinedMetricWarning: Precision and F-score are ill-defined and being set to 0.0 in labels with no predicted samples. Use `zero_division` parameter to control this behavior.\n",
      "  _warn_prf(average, modifier, msg_start, len(result))\n"
     ]
    },
    {
     "name": "stdout",
     "output_type": "stream",
     "text": [
      "              precision    recall  f1-score   support\n",
      "\n",
      "           0       0.00      0.00      0.00     34333\n",
      "           1       0.39      0.96      0.55     34024\n",
      "           2       0.96      0.13      0.23     34271\n",
      "           3       0.00      0.00      0.00     34378\n",
      "           4       0.43      0.90      0.58     34344\n",
      "           5       0.55      0.84      0.66     34151\n",
      "           6       0.95      0.62      0.75     34343\n",
      "           7       0.95      1.00      0.97     34216\n",
      "           8       1.00      1.00      1.00     34559\n",
      "           9       0.89      0.70      0.78     34339\n",
      "          10       0.68      0.48      0.56     34168\n",
      "          11       0.76      0.96      0.85     34489\n",
      "          12       0.00      0.00      0.00     34539\n",
      "          13       0.69      0.95      0.80     34119\n",
      "          14       0.49      0.93      0.64     34254\n",
      "\n",
      "    accuracy                           0.63    514527\n",
      "   macro avg       0.58      0.63      0.56    514527\n",
      "weighted avg       0.58      0.63      0.56    514527\n",
      "\n"
     ]
    },
    {
     "name": "stderr",
     "output_type": "stream",
     "text": [
      "/home/shailesh/.local/lib/python3.6/site-packages/sklearn/metrics/_classification.py:1248: UndefinedMetricWarning: Precision and F-score are ill-defined and being set to 0.0 in labels with no predicted samples. Use `zero_division` parameter to control this behavior.\n",
      "  _warn_prf(average, modifier, msg_start, len(result))\n",
      "/home/shailesh/.local/lib/python3.6/site-packages/sklearn/metrics/_classification.py:1248: UndefinedMetricWarning: Precision and F-score are ill-defined and being set to 0.0 in labels with no predicted samples. Use `zero_division` parameter to control this behavior.\n",
      "  _warn_prf(average, modifier, msg_start, len(result))\n"
     ]
    }
   ],
   "source": [
    "from sklearn.metrics import classification_report\n",
    "print(classification_report(y_test,y_pred))"
   ]
  },
  {
   "cell_type": "code",
   "execution_count": null,
   "metadata": {
    "id": "LdMD7Nn-6f5u"
   },
   "outputs": [],
   "source": []
  },
  {
   "cell_type": "code",
   "execution_count": 19,
   "metadata": {
    "colab": {
     "base_uri": "https://localhost:8080/"
    },
    "id": "hAD0tHoTqcrB",
    "outputId": "8a4f01c2-8b4d-443f-a67c-3828c06946be"
   },
   "outputs": [
    {
     "data": {
      "text/plain": [
       "(array([ 1,  2,  3,  4,  5,  6,  7,  8,  9, 10, 11, 13, 14]),\n",
       " array([84568,  4619,     8, 72813, 52226, 22413, 36152, 34559, 26748,\n",
       "        24399, 43835, 46809, 65378]))"
      ]
     },
     "execution_count": 19,
     "metadata": {},
     "output_type": "execute_result"
    }
   ],
   "source": [
    "unique, counts = np.unique(y_pred, return_counts = True)\n",
    "unique, counts"
   ]
  },
  {
   "cell_type": "code",
   "execution_count": 20,
   "metadata": {
    "colab": {
     "base_uri": "https://localhost:8080/"
    },
    "id": "jgrajAJhqcrB",
    "outputId": "7bc7fbf3-f1b5-46a4-9ce5-a67a3a602761"
   },
   "outputs": [
    {
     "data": {
      "text/plain": [
       "(array([ 0,  1,  2,  3,  4,  5,  6,  7,  8,  9, 10, 11, 12, 13, 14]),\n",
       " array([34333, 34024, 34271, 34378, 34344, 34151, 34343, 34216, 34559,\n",
       "        34339, 34168, 34489, 34539, 34119, 34254]))"
      ]
     },
     "execution_count": 20,
     "metadata": {},
     "output_type": "execute_result"
    }
   ],
   "source": [
    "unique, counts = np.unique(y_test, return_counts = True)\n",
    "unique, counts"
   ]
  },
  {
   "cell_type": "code",
   "execution_count": 21,
   "metadata": {
    "id": "Vb3O7h1_qcrB"
   },
   "outputs": [],
   "source": [
    "import joblib"
   ]
  },
  {
   "cell_type": "code",
   "execution_count": 22,
   "metadata": {
    "colab": {
     "base_uri": "https://localhost:8080/"
    },
    "id": "FhiUfCpIqcrB",
    "outputId": "541605b9-735a-4949-a320-45f80a4c4e7a"
   },
   "outputs": [
    {
     "data": {
      "text/plain": [
       "['IDS_model_RF.joblib']"
      ]
     },
     "execution_count": 22,
     "metadata": {},
     "output_type": "execute_result"
    }
   ],
   "source": [
    "joblib.dump(clf, 'IDS_model_RF.joblib')"
   ]
  },
  {
   "cell_type": "code",
   "execution_count": 23,
   "metadata": {
    "id": "KQKvU3waqcrC"
   },
   "outputs": [],
   "source": [
    "clf_preds = clf.predict(X_test)"
   ]
  },
  {
   "cell_type": "code",
   "execution_count": 24,
   "metadata": {
    "colab": {
     "base_uri": "https://localhost:8080/"
    },
    "id": "0K7Sw--CqcrC",
    "outputId": "c2779613-43c7-4532-d671-86dbfd84a50f"
   },
   "outputs": [
    {
     "data": {
      "text/plain": [
       "(514527,)"
      ]
     },
     "execution_count": 24,
     "metadata": {},
     "output_type": "execute_result"
    }
   ],
   "source": [
    "clf_preds.shape"
   ]
  },
  {
   "cell_type": "code",
   "execution_count": 25,
   "metadata": {
    "colab": {
     "base_uri": "https://localhost:8080/"
    },
    "id": "LZCYR2J0qcrC",
    "outputId": "26f4b964-8d63-415a-8602-f5de0ba9adbb"
   },
   "outputs": [
    {
     "data": {
      "text/plain": [
       "array([ 8,  4, 14,  4, 14,  4,  5, 14,  1, 13, 10,  4, 14,  5,  8, 13, 11,\n",
       "        4, 13,  1])"
      ]
     },
     "execution_count": 25,
     "metadata": {},
     "output_type": "execute_result"
    }
   ],
   "source": [
    "clf_preds[:20]"
   ]
  },
  {
   "cell_type": "code",
   "execution_count": 26,
   "metadata": {
    "colab": {
     "base_uri": "https://localhost:8080/"
    },
    "id": "EcDr8Wo8qcrC",
    "outputId": "53b81722-e386-4242-d8ba-79650eb3307d"
   },
   "outputs": [
    {
     "data": {
      "text/plain": [
       "<bound method BaseEstimator.get_params of RandomForestClassifier(max_depth=2, random_state=0)>"
      ]
     },
     "execution_count": 26,
     "metadata": {},
     "output_type": "execute_result"
    }
   ],
   "source": [
    "clf.get_params"
   ]
  },
  {
   "cell_type": "markdown",
   "metadata": {},
   "source": [
    "#### Plotting loss and accuracy graphs"
   ]
  },
  {
   "cell_type": "code",
   "execution_count": 27,
   "metadata": {},
   "outputs": [],
   "source": [
    "from sklearn.tree import plot_tree"
   ]
  },
  {
   "cell_type": "code",
   "execution_count": null,
   "metadata": {},
   "outputs": [],
   "source": [
    "fig = plt.figure(figsize=(15, 10))\n",
    "plot_tree(clf.estimators_[0], \n",
    "          feature_names=wine.feature_names,\n",
    "          class_names=wine.target_names, \n",
    "          filled=True, impurity=True, \n",
    "          rounded=True)"
   ]
  }
 ],
 "metadata": {
  "accelerator": "GPU",
  "colab": {
   "collapsed_sections": [],
   "name": "rf.ipynb",
   "provenance": []
  },
  "kernelspec": {
   "display_name": "Python 3",
   "language": "python",
   "name": "python3"
  },
  "language_info": {
   "codemirror_mode": {
    "name": "ipython",
    "version": 3
   },
   "file_extension": ".py",
   "mimetype": "text/x-python",
   "name": "python",
   "nbconvert_exporter": "python",
   "pygments_lexer": "ipython3",
   "version": "3.6.9"
  }
 },
 "nbformat": 4,
 "nbformat_minor": 1
}
