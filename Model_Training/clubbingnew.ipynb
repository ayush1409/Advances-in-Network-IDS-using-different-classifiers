{
 "cells": [
  {
   "cell_type": "code",
   "execution_count": 1,
   "metadata": {
    "id": "0tos7BeZ7fFX"
   },
   "outputs": [],
   "source": [
    "from keras.models import load_model\n",
    "import joblib\n",
    "import pickle\n",
    "import numpy as np\n",
    "from sklearn.preprocessing import MinMaxScaler, StandardScaler, RobustScaler\n",
    "from sklearn.preprocessing import LabelEncoder\n",
    "import pandas as pd"
   ]
  },
  {
   "cell_type": "code",
   "execution_count": 2,
   "metadata": {
    "id": "kRtKyIXd9Hz-"
   },
   "outputs": [],
   "source": [
    "from sklearn.model_selection import train_test_split\n",
    "from sklearn.ensemble import VotingClassifier"
   ]
  },
  {
   "cell_type": "code",
   "execution_count": 3,
   "metadata": {
    "id": "VKOWwYRS6x_2"
   },
   "outputs": [],
   "source": [
    "model_nn = load_model('IDS_model_NN.h5')"
   ]
  },
  {
   "cell_type": "code",
   "execution_count": 4,
   "metadata": {
    "id": "e-VC1XG3Ok89"
   },
   "outputs": [],
   "source": [
    "model_lstm = load_model('IDS_model_lstm.h5')"
   ]
  },
  {
   "cell_type": "code",
   "execution_count": 5,
   "metadata": {
    "colab": {
     "base_uri": "https://localhost:8080/"
    },
    "id": "XjQzoRvkOkHu",
    "outputId": "9965b199-5fac-40cb-dc48-a63529b1f3b2"
   },
   "outputs": [],
   "source": [
    "model_rf = joblib.load('IDS_model_RF.joblib')"
   ]
  },
  {
   "cell_type": "code",
   "execution_count": 7,
   "metadata": {
    "id": "19MaS51L1gYO"
   },
   "outputs": [],
   "source": [
    "# #Rading Dataset\n",
    "# path = \"/content/drive/MyDrive/Colab Notebooks/Dataset_clean.csv\"\n",
    "# dataset = pd.read_csv(path)"
   ]
  },
  {
   "cell_type": "code",
   "execution_count": 8,
   "metadata": {
    "id": "QmcAmoVA1p5A"
   },
   "outputs": [],
   "source": [
    "# dataset = dataset.sample(frac=1)\n",
    "# dataset.reset_index(inplace=True)"
   ]
  },
  {
   "cell_type": "code",
   "execution_count": 9,
   "metadata": {
    "id": "ra394zww2BvY"
   },
   "outputs": [],
   "source": [
    "# X = dataset.iloc[:,:-1]\n",
    "# y = dataset.iloc[:,-1]"
   ]
  },
  {
   "cell_type": "code",
   "execution_count": 10,
   "metadata": {
    "id": "36tHSfJs2ERp"
   },
   "outputs": [],
   "source": [
    "# #changing dtypes of  features columns (\"X\")\n",
    "# X = X.astype(\"float64\")"
   ]
  },
  {
   "cell_type": "code",
   "execution_count": 11,
   "metadata": {
    "id": "vCmdDX7z49A0"
   },
   "outputs": [],
   "source": [
    "# LE = LabelEncoder()\n",
    "\n",
    "# LE.fit(y)\n",
    "# y = LE.transform(y)"
   ]
  },
  {
   "cell_type": "code",
   "execution_count": 12,
   "metadata": {
    "id": "uze7N8Ep2IJD"
   },
   "outputs": [],
   "source": [
    "# del dataset"
   ]
  },
  {
   "cell_type": "code",
   "execution_count": 7,
   "metadata": {
    "id": "C1DedUFm8aIC"
   },
   "outputs": [],
   "source": [
    "#pickle load\n",
    "X_file = open('feature_data', 'rb')\n",
    "X = pickle.load(X_file)   \n",
    "X_file.close()\n",
    "\n",
    "y_file = open('label_data', 'rb')\n",
    "y = pickle.load(y_file)   \n",
    "y_file.close()"
   ]
  },
  {
   "cell_type": "code",
   "execution_count": 8,
   "metadata": {
    "id": "RaoMoK4d1OFj"
   },
   "outputs": [],
   "source": [
    "# # RobustScaler is used to preserve outliers in the data.\n",
    "# scaler = RobustScaler()\n",
    "# scaler.fit(X)\n",
    "\n",
    "# X = scaler.transform(X)"
   ]
  },
  {
   "cell_type": "code",
   "execution_count": 9,
   "metadata": {
    "id": "M3ffMxoZQvAU"
   },
   "outputs": [],
   "source": [
    "#RESHAPING THE DATA\n",
    "X_for_lstm = X.reshape(X.shape[0],X.shape[1] //2 ,2)"
   ]
  },
  {
   "cell_type": "code",
   "execution_count": 10,
   "metadata": {
    "colab": {
     "base_uri": "https://localhost:8080/"
    },
    "id": "IGhFGvES9BwN",
    "outputId": "0b1ccb56-00f2-4c5c-af12-ea0b07a394f0"
   },
   "outputs": [
    {
     "data": {
      "text/plain": [
       "((2058108, 78), (514527, 78), (2058108,), (514527,))"
      ]
     },
     "execution_count": 10,
     "metadata": {},
     "output_type": "execute_result"
    }
   ],
   "source": [
    "X_train, X_test, y_train, y_test = train_test_split(X,y, test_size=.2,shuffle=False)\n",
    "\n",
    "X_train.shape, X_test.shape, y_train.shape, y_test.shape"
   ]
  },
  {
   "cell_type": "code",
   "execution_count": 11,
   "metadata": {
    "colab": {
     "base_uri": "https://localhost:8080/"
    },
    "id": "Futqg1A6QeTG",
    "outputId": "39d787fa-a31b-4594-837f-98a100ef569a"
   },
   "outputs": [
    {
     "data": {
      "text/plain": [
       "((2058108, 39, 2), (514527, 39, 2), (2058108,), (514527,))"
      ]
     },
     "execution_count": 11,
     "metadata": {},
     "output_type": "execute_result"
    }
   ],
   "source": [
    "X_train_lstm, X_test_lstm, y_train_lstm, y_test_lstm = train_test_split(X_for_lstm,y, test_size=.2,shuffle=False)\n",
    "\n",
    "X_train_lstm.shape, X_test_lstm.shape, y_train_lstm.shape, y_test_lstm.shape"
   ]
  },
  {
   "cell_type": "code",
   "execution_count": 12,
   "metadata": {
    "id": "QUgvcNrXxmrK"
   },
   "outputs": [],
   "source": [
    "# np.unique(np.array(list(zip(y_test,y_test_lstm)))[:,0],return_counts=True)"
   ]
  },
  {
   "cell_type": "code",
   "execution_count": 13,
   "metadata": {
    "id": "d7zeG1dOO6vw"
   },
   "outputs": [],
   "source": [
    "prob_nn = model_nn.predict(X_test)\n",
    "prob_lstm = model_lstm.predict(X_test_lstm)"
   ]
  },
  {
   "cell_type": "code",
   "execution_count": 14,
   "metadata": {
    "id": "2JMdrpngO6qj"
   },
   "outputs": [],
   "source": [
    "y_pred_nn = prob_nn.argmax(axis=1)\n",
    "y_pred_lstm = prob_lstm.argmax(axis=1)"
   ]
  },
  {
   "cell_type": "code",
   "execution_count": 15,
   "metadata": {
    "id": "75zoK6RLO6lL"
   },
   "outputs": [],
   "source": [
    "y_pred_rf = model_rf.predict(X_test)"
   ]
  },
  {
   "cell_type": "code",
   "execution_count": 16,
   "metadata": {
    "colab": {
     "base_uri": "https://localhost:8080/"
    },
    "id": "IL5jbEdcz-PK",
    "outputId": "03f20de1-22ed-41d5-83c9-404b115c65df"
   },
   "outputs": [
    {
     "data": {
      "text/plain": [
       "(514527, 514527)"
      ]
     },
     "execution_count": 16,
     "metadata": {},
     "output_type": "execute_result"
    }
   ],
   "source": [
    "len(y_pred_nn),len(y_pred_lstm)"
   ]
  },
  {
   "cell_type": "code",
   "execution_count": 17,
   "metadata": {
    "id": "jElSoZrJTQqF"
   },
   "outputs": [],
   "source": [
    "y_pred_club = []\n",
    "for i in range(len(y_pred_nn)):\n",
    "    ls = [y_pred_lstm[i],y_pred_nn[i],y_pred_rf[i]]\n",
    "    max_label = max(ls,key=ls.count)\n",
    "    y_pred_club.append(max_label)"
   ]
  },
  {
   "cell_type": "code",
   "execution_count": 18,
   "metadata": {
    "colab": {
     "base_uri": "https://localhost:8080/"
    },
    "id": "aOgKQrU74CPL",
    "outputId": "b0f7c118-e0ae-414b-a01c-eabe80b62dd4"
   },
   "outputs": [
    {
     "data": {
      "text/plain": [
       "array([14, 14, 14, ..., 10, 10, 10])"
      ]
     },
     "execution_count": 18,
     "metadata": {},
     "output_type": "execute_result"
    }
   ],
   "source": [
    "y_test_lstm"
   ]
  },
  {
   "cell_type": "code",
   "execution_count": 19,
   "metadata": {
    "colab": {
     "base_uri": "https://localhost:8080/"
    },
    "id": "dG6r_w7vWiak",
    "outputId": "f1493841-ae28-4c27-8d37-aad2bd6bda23"
   },
   "outputs": [
    {
     "name": "stderr",
     "output_type": "stream",
     "text": [
      "/home/shailesh/.local/lib/python3.6/site-packages/sklearn/metrics/_classification.py:1248: UndefinedMetricWarning: Recall and F-score are ill-defined and being set to 0.0 in labels with no true samples. Use `zero_division` parameter to control this behavior.\n",
      "  _warn_prf(average, modifier, msg_start, len(result))\n"
     ]
    },
    {
     "name": "stdout",
     "output_type": "stream",
     "text": [
      "              precision    recall  f1-score   support\n",
      "\n",
      "           0       0.00      0.00      0.00         0\n",
      "           1       0.00      0.00      0.00         0\n",
      "           2       0.00      0.00      0.00         0\n",
      "           3       0.00      0.00      0.00         0\n",
      "           4       0.00      0.00      0.00         0\n",
      "           5       0.00      0.00      0.00         0\n",
      "           6       0.00      0.00      0.00         0\n",
      "          10       1.00      0.99      0.99    171509\n",
      "          12       0.00      0.00      0.00         0\n",
      "          13       0.99      1.00      1.00    171509\n",
      "          14       1.00      0.96      0.98    171509\n",
      "\n",
      "    accuracy                           0.98    514527\n",
      "   macro avg       0.27      0.27      0.27    514527\n",
      "weighted avg       1.00      0.98      0.99    514527\n",
      "\n"
     ]
    },
    {
     "name": "stderr",
     "output_type": "stream",
     "text": [
      "/home/shailesh/.local/lib/python3.6/site-packages/sklearn/metrics/_classification.py:1248: UndefinedMetricWarning: Recall and F-score are ill-defined and being set to 0.0 in labels with no true samples. Use `zero_division` parameter to control this behavior.\n",
      "  _warn_prf(average, modifier, msg_start, len(result))\n",
      "/home/shailesh/.local/lib/python3.6/site-packages/sklearn/metrics/_classification.py:1248: UndefinedMetricWarning: Recall and F-score are ill-defined and being set to 0.0 in labels with no true samples. Use `zero_division` parameter to control this behavior.\n",
      "  _warn_prf(average, modifier, msg_start, len(result))\n"
     ]
    }
   ],
   "source": [
    "from sklearn.metrics import classification_report\n",
    "print(classification_report(y_test,y_pred_club))"
   ]
  },
  {
   "cell_type": "code",
   "execution_count": 75,
   "metadata": {
    "id": "teT4p7XAAOqS"
   },
   "outputs": [],
   "source": []
  }
 ],
 "metadata": {
  "colab": {
   "collapsed_sections": [],
   "name": "clubbing.ipynb",
   "provenance": []
  },
  "kernelspec": {
   "display_name": "Python 3",
   "language": "python",
   "name": "python3"
  },
  "language_info": {
   "codemirror_mode": {
    "name": "ipython",
    "version": 3
   },
   "file_extension": ".py",
   "mimetype": "text/x-python",
   "name": "python",
   "nbconvert_exporter": "python",
   "pygments_lexer": "ipython3",
   "version": "3.6.9"
  }
 },
 "nbformat": 4,
 "nbformat_minor": 1
}
