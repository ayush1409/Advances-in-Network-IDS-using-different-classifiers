{
 "cells": [
  {
   "cell_type": "code",
   "execution_count": null,
   "metadata": {
    "id": "Xe_U9dI3A2qW"
   },
   "outputs": [],
   "source": []
  },
  {
   "cell_type": "code",
   "execution_count": 2,
   "metadata": {
    "id": "P-zvPPpl6CGQ"
   },
   "outputs": [
    {
     "name": "stderr",
     "output_type": "stream",
     "text": [
      "/home/shailesh/.local/lib/python3.6/site-packages/tensorflow/python/framework/dtypes.py:516: FutureWarning: Passing (type, 1) or '1type' as a synonym of type is deprecated; in a future version of numpy, it will be understood as (type, (1,)) / '(1,)type'.\n",
      "  _np_qint8 = np.dtype([(\"qint8\", np.int8, 1)])\n",
      "/home/shailesh/.local/lib/python3.6/site-packages/tensorflow/python/framework/dtypes.py:517: FutureWarning: Passing (type, 1) or '1type' as a synonym of type is deprecated; in a future version of numpy, it will be understood as (type, (1,)) / '(1,)type'.\n",
      "  _np_quint8 = np.dtype([(\"quint8\", np.uint8, 1)])\n",
      "/home/shailesh/.local/lib/python3.6/site-packages/tensorflow/python/framework/dtypes.py:518: FutureWarning: Passing (type, 1) or '1type' as a synonym of type is deprecated; in a future version of numpy, it will be understood as (type, (1,)) / '(1,)type'.\n",
      "  _np_qint16 = np.dtype([(\"qint16\", np.int16, 1)])\n",
      "/home/shailesh/.local/lib/python3.6/site-packages/tensorflow/python/framework/dtypes.py:519: FutureWarning: Passing (type, 1) or '1type' as a synonym of type is deprecated; in a future version of numpy, it will be understood as (type, (1,)) / '(1,)type'.\n",
      "  _np_quint16 = np.dtype([(\"quint16\", np.uint16, 1)])\n",
      "/home/shailesh/.local/lib/python3.6/site-packages/tensorflow/python/framework/dtypes.py:520: FutureWarning: Passing (type, 1) or '1type' as a synonym of type is deprecated; in a future version of numpy, it will be understood as (type, (1,)) / '(1,)type'.\n",
      "  _np_qint32 = np.dtype([(\"qint32\", np.int32, 1)])\n",
      "/home/shailesh/.local/lib/python3.6/site-packages/tensorflow/python/framework/dtypes.py:525: FutureWarning: Passing (type, 1) or '1type' as a synonym of type is deprecated; in a future version of numpy, it will be understood as (type, (1,)) / '(1,)type'.\n",
      "  np_resource = np.dtype([(\"resource\", np.ubyte, 1)])\n"
     ]
    }
   ],
   "source": [
    "import pandas as pd\n",
    "import glob\n",
    "import re\n",
    "import numpy as np\n",
    "from sklearn.preprocessing import MinMaxScaler, StandardScaler, RobustScaler\n",
    "from sklearn.preprocessing import LabelEncoder\n",
    "from sklearn.model_selection import train_test_split\n",
    "import tensorflow as tf\n",
    "import datetime"
   ]
  },
  {
   "cell_type": "code",
   "execution_count": null,
   "metadata": {
    "id": "wz5DFAFb7c92"
   },
   "outputs": [],
   "source": []
  },
  {
   "cell_type": "code",
   "execution_count": 5,
   "metadata": {
    "colab": {
     "base_uri": "https://localhost:8080/"
    },
    "id": "V7H8_6pY6L53",
    "outputId": "564819a7-2efe-4c1a-e160-6f949067b8ba"
   },
   "outputs": [
    {
     "name": "stdout",
     "output_type": "stream",
     "text": [
      "Dataset/MachineLearningCSV/MachineLearningCVE/Thursday-WorkingHours-Afternoon-Infilteration.pcap_ISCX.csv\n",
      "Dataset/MachineLearningCSV/MachineLearningCVE/Friday-WorkingHours-Afternoon-DDos.pcap_ISCX.csv\n",
      "Dataset/MachineLearningCSV/MachineLearningCVE/Monday-WorkingHours.pcap_ISCX.csv\n",
      "Dataset/MachineLearningCSV/MachineLearningCVE/Wednesday-workingHours.pcap_ISCX.csv\n",
      "Dataset/MachineLearningCSV/MachineLearningCVE/Friday-WorkingHours-Morning.pcap_ISCX.csv\n",
      "Dataset/MachineLearningCSV/MachineLearningCVE/Tuesday-WorkingHours.pcap_ISCX.csv\n",
      "Dataset/MachineLearningCSV/MachineLearningCVE/Thursday-WorkingHours-Morning-WebAttacks.pcap_ISCX.csv\n",
      "Dataset/MachineLearningCSV/MachineLearningCVE/Friday-WorkingHours-Afternoon-PortScan.pcap_ISCX.csv\n"
     ]
    }
   ],
   "source": [
    "# Saving all .csv files in folder to list.\n",
    "path = \"Dataset/MachineLearningCSV/MachineLearningCVE/\"\n",
    "file_names = []\n",
    "\n",
    "for file in glob.glob(path + \"**/*.csv\", recursive=True):\n",
    "    print(file)\n",
    "    file_names.append(file)\n"
   ]
  },
  {
   "cell_type": "code",
   "execution_count": null,
   "metadata": {
    "id": "rwqm-vin6SI6"
   },
   "outputs": [],
   "source": [
    "# from google.colab import drive\n",
    "# drive.mount('/content/drive')"
   ]
  },
  {
   "cell_type": "code",
   "execution_count": 7,
   "metadata": {
    "id": "ivdpxkGD6wbN"
   },
   "outputs": [],
   "source": [
    "# Reading all the csv files into dataframes into a \"list of Dataframes\"\n",
    "dataframes = []     \n",
    "for f in file_names:\n",
    "    dataframes.append(pd.read_csv(f))\n"
   ]
  },
  {
   "cell_type": "code",
   "execution_count": 8,
   "metadata": {
    "colab": {
     "base_uri": "https://localhost:8080/"
    },
    "id": "1sFkdbP36wvZ",
    "outputId": "e23a11c4-a3fb-46ea-a6c2-b24b0f4f10cd"
   },
   "outputs": [
    {
     "name": "stdout",
     "output_type": "stream",
     "text": [
      "(288602, 79)\n",
      "(225745, 79)\n",
      "(529918, 79)\n",
      "(692703, 79)\n",
      "(191033, 79)\n",
      "(445909, 79)\n",
      "(170366, 79)\n",
      "(286467, 79)\n"
     ]
    }
   ],
   "source": [
    "#Dimensions of all datafiles\n",
    "for d in dataframes:\n",
    "    print(d.shape)"
   ]
  },
  {
   "cell_type": "code",
   "execution_count": 9,
   "metadata": {
    "colab": {
     "base_uri": "https://localhost:8080/"
    },
    "id": "VzikZe6A6w0j",
    "outputId": "b76bab65-1f75-4924-c229-a1a31c4198dc"
   },
   "outputs": [
    {
     "data": {
      "text/plain": [
       "array([ True,  True,  True,  True,  True,  True,  True,  True,  True,\n",
       "        True,  True,  True,  True,  True,  True,  True,  True,  True,\n",
       "        True,  True,  True,  True,  True,  True,  True,  True,  True,\n",
       "        True,  True,  True,  True,  True,  True,  True,  True,  True,\n",
       "        True,  True,  True,  True,  True,  True,  True,  True,  True,\n",
       "        True,  True,  True,  True,  True,  True,  True,  True,  True,\n",
       "        True,  True,  True,  True,  True,  True,  True,  True,  True,\n",
       "        True,  True,  True,  True,  True,  True,  True,  True,  True,\n",
       "        True,  True,  True,  True,  True,  True,  True])"
      ]
     },
     "execution_count": 9,
     "metadata": {},
     "output_type": "execute_result"
    }
   ],
   "source": [
    "# checking all dataframes have same column names or not\n",
    "same_col_names = 0\n",
    "for i in range(0,len(dataframes)-1):\n",
    "    same_col_names = dataframes[i].columns == dataframes[i+1].columns\n",
    "    \n",
    "    if False in same_col_names:\n",
    "        print(\"file num {} and {} doesnot contain same column names \".format(i,i+1))     \n",
    "        break\n",
    "    \n",
    "    #if same_col_names.any(where=False):\n",
    "    #    break\n",
    "\n",
    "same_col_names"
   ]
  },
  {
   "cell_type": "code",
   "execution_count": 10,
   "metadata": {
    "id": "ACX1dTVi6w41"
   },
   "outputs": [],
   "source": [
    "# Combining all tables into one dataset\n",
    "dataset = pd.DataFrame()\n",
    "for d in dataframes:\n",
    "    dataset = pd.concat([dataset, d])\n",
    "\n",
    "#dropping duplicate rows\n",
    "dataset = dataset.drop_duplicates(keep=False)    #try with keep =  \"first\"\n",
    "dataset.reset_index(drop=True, inplace = True)"
   ]
  },
  {
   "cell_type": "code",
   "execution_count": 11,
   "metadata": {
    "colab": {
     "base_uri": "https://localhost:8080/"
    },
    "id": "olwvozLm6w8b",
    "outputId": "d23de354-5185-4849-fc41-2863d6c99972"
   },
   "outputs": [
    {
     "data": {
      "text/plain": [
       "(2427193, 79)"
      ]
     },
     "execution_count": 11,
     "metadata": {},
     "output_type": "execute_result"
    }
   ],
   "source": [
    "# By checking the shape of dataset we can confirm that concatenation has been successfull.\n",
    "dataset.shape"
   ]
  },
  {
   "cell_type": "code",
   "execution_count": null,
   "metadata": {
    "id": "iarlILXFtw1y"
   },
   "outputs": [],
   "source": []
  },
  {
   "cell_type": "code",
   "execution_count": 12,
   "metadata": {
    "id": "sEEZxoJ6cY2_"
   },
   "outputs": [],
   "source": [
    "del dataframes"
   ]
  },
  {
   "cell_type": "code",
   "execution_count": null,
   "metadata": {
    "id": "eVssPqCA6xAA"
   },
   "outputs": [],
   "source": [
    "#dtypes of all columns\n",
    "# dataset.info()"
   ]
  },
  {
   "cell_type": "code",
   "execution_count": 13,
   "metadata": {
    "id": "rVQbrf42JBN4"
   },
   "outputs": [],
   "source": [
    "#removing trailing and leading spaces in cloumn  names\n",
    "dataset.columns = [i.strip() for i in dataset.columns.values]\n"
   ]
  },
  {
   "cell_type": "code",
   "execution_count": 14,
   "metadata": {
    "colab": {
     "base_uri": "https://localhost:8080/"
    },
    "id": "JbYs-BR_6xDJ",
    "outputId": "596942f0-dcc5-428f-8ca9-6e13bc2cb380"
   },
   "outputs": [
    {
     "name": "stdout",
     "output_type": "stream",
     "text": [
      "15\n",
      "['BENIGN' 'Infiltration' 'DDoS' 'DoS slowloris' 'DoS Slowhttptest'\n",
      " 'DoS Hulk' 'DoS GoldenEye' 'Heartbleed' 'Bot' 'FTP-Patator' 'SSH-Patator'\n",
      " 'Web Attack � Brute Force' 'Web Attack � XSS'\n",
      " 'Web Attack � Sql Injection' 'PortScan']\n"
     ]
    }
   ],
   "source": [
    "#OUTPUT LABELS (different types of attacks and BENIGN)\n",
    "label_names = dataset['Label'].unique()\n",
    "print(len(label_names))\n",
    "print(label_names)"
   ]
  },
  {
   "cell_type": "code",
   "execution_count": 15,
   "metadata": {
    "colab": {
     "base_uri": "https://localhost:8080/"
    },
    "id": "ixbom7nNOWSE",
    "outputId": "2b4217cf-f193-4d7c-e440-f62a321f8d2e"
   },
   "outputs": [
    {
     "data": {
      "text/plain": [
       "['BENIGN',\n",
       " 'Infiltration',\n",
       " 'DDoS',\n",
       " 'DoS_slowloris',\n",
       " 'DoS_Slowhttptest',\n",
       " 'DoS_Hulk',\n",
       " 'DoS_GoldenEye',\n",
       " 'Heartbleed',\n",
       " 'Bot',\n",
       " 'FTP_Patator',\n",
       " 'SSH_Patator',\n",
       " 'Web_Attack_Brute_Force',\n",
       " 'Web_Attack_XSS',\n",
       " 'Web_Attack_Sql_Injection',\n",
       " 'PortScan']"
      ]
     },
     "execution_count": 15,
     "metadata": {},
     "output_type": "execute_result"
    }
   ],
   "source": [
    "#removing non-ascii symbols from output labels and bringing into required format\n",
    "labels = [str(l).replace(chr(65533),\"\")for l in label_names]\n",
    "labels = [str(l).replace(\"  \",\"_\")for l in labels]\n",
    "labels = [str(l).replace(\" \",\"_\")for l in labels]\n",
    "labels = [str(l).replace(\"-\",\"_\")for l in labels]\n",
    "labels"
   ]
  },
  {
   "cell_type": "code",
   "execution_count": 16,
   "metadata": {
    "id": "tN9SvnjK6xJJ"
   },
   "outputs": [],
   "source": [
    "#mapping \n",
    "replacing_dict = {}\n",
    "for i in range(len(label_names)):\n",
    "    replacing_dict[label_names[i]] = labels[i]"
   ]
  },
  {
   "cell_type": "code",
   "execution_count": 17,
   "metadata": {
    "id": "Xr3Ld1rU6xMB"
   },
   "outputs": [],
   "source": [
    "#replacing the \"label\" column values\n",
    "dataset[\"Label\"] = dataset[\"Label\"].replace(replacing_dict)"
   ]
  },
  {
   "cell_type": "code",
   "execution_count": 18,
   "metadata": {
    "colab": {
     "base_uri": "https://localhost:8080/"
    },
    "id": "v38WGQcd6xOu",
    "outputId": "64895346-e33c-4513-e2ad-e181d899c78d"
   },
   "outputs": [
    {
     "data": {
      "text/plain": [
       "array(['BENIGN', 'Infiltration', 'DDoS', 'DoS_slowloris',\n",
       "       'DoS_Slowhttptest', 'DoS_Hulk', 'DoS_GoldenEye', 'Heartbleed',\n",
       "       'Bot', 'FTP_Patator', 'SSH_Patator', 'Web_Attack_Brute_Force',\n",
       "       'Web_Attack_XSS', 'Web_Attack_Sql_Injection', 'PortScan'],\n",
       "      dtype=object)"
      ]
     },
     "execution_count": 18,
     "metadata": {},
     "output_type": "execute_result"
    }
   ],
   "source": [
    "dataset['Label'].unique()"
   ]
  },
  {
   "cell_type": "code",
   "execution_count": null,
   "metadata": {
    "id": "zeoUmnUt6xWv"
   },
   "outputs": [],
   "source": [
    "# # Saving cleaned dataset.\n",
    "# dataset.to_csv(\"/content/drive/MyDrive/Colab Notebooks/Dataset_clean.csv\", index=False)"
   ]
  },
  {
   "cell_type": "code",
   "execution_count": 19,
   "metadata": {
    "colab": {
     "base_uri": "https://localhost:8080/",
     "height": 351
    },
    "id": "ykIu6FHs6xZZ",
    "outputId": "2c622ad7-b57f-412c-fc9a-5b19c7a9e2ae"
   },
   "outputs": [
    {
     "data": {
      "text/html": [
       "<div>\n",
       "<style scoped>\n",
       "    .dataframe tbody tr th:only-of-type {\n",
       "        vertical-align: middle;\n",
       "    }\n",
       "\n",
       "    .dataframe tbody tr th {\n",
       "        vertical-align: top;\n",
       "    }\n",
       "\n",
       "    .dataframe thead th {\n",
       "        text-align: right;\n",
       "    }\n",
       "</style>\n",
       "<table border=\"1\" class=\"dataframe\">\n",
       "  <thead>\n",
       "    <tr style=\"text-align: right;\">\n",
       "      <th></th>\n",
       "      <th>Destination Port</th>\n",
       "      <th>Flow Duration</th>\n",
       "      <th>Total Fwd Packets</th>\n",
       "      <th>Total Backward Packets</th>\n",
       "      <th>Total Length of Fwd Packets</th>\n",
       "      <th>Total Length of Bwd Packets</th>\n",
       "      <th>Fwd Packet Length Max</th>\n",
       "      <th>Fwd Packet Length Min</th>\n",
       "      <th>Fwd Packet Length Mean</th>\n",
       "      <th>Fwd Packet Length Std</th>\n",
       "      <th>...</th>\n",
       "      <th>min_seg_size_forward</th>\n",
       "      <th>Active Mean</th>\n",
       "      <th>Active Std</th>\n",
       "      <th>Active Max</th>\n",
       "      <th>Active Min</th>\n",
       "      <th>Idle Mean</th>\n",
       "      <th>Idle Std</th>\n",
       "      <th>Idle Max</th>\n",
       "      <th>Idle Min</th>\n",
       "      <th>Label</th>\n",
       "    </tr>\n",
       "  </thead>\n",
       "  <tbody>\n",
       "    <tr>\n",
       "      <th>0</th>\n",
       "      <td>60148</td>\n",
       "      <td>83</td>\n",
       "      <td>1</td>\n",
       "      <td>2</td>\n",
       "      <td>0</td>\n",
       "      <td>0</td>\n",
       "      <td>0</td>\n",
       "      <td>0</td>\n",
       "      <td>0.0</td>\n",
       "      <td>0.0</td>\n",
       "      <td>...</td>\n",
       "      <td>32</td>\n",
       "      <td>0.000</td>\n",
       "      <td>0.000</td>\n",
       "      <td>0</td>\n",
       "      <td>0</td>\n",
       "      <td>0.0</td>\n",
       "      <td>0.000</td>\n",
       "      <td>0</td>\n",
       "      <td>0</td>\n",
       "      <td>BENIGN</td>\n",
       "    </tr>\n",
       "    <tr>\n",
       "      <th>1</th>\n",
       "      <td>123</td>\n",
       "      <td>99947</td>\n",
       "      <td>1</td>\n",
       "      <td>1</td>\n",
       "      <td>48</td>\n",
       "      <td>48</td>\n",
       "      <td>48</td>\n",
       "      <td>48</td>\n",
       "      <td>48.0</td>\n",
       "      <td>0.0</td>\n",
       "      <td>...</td>\n",
       "      <td>40</td>\n",
       "      <td>0.000</td>\n",
       "      <td>0.000</td>\n",
       "      <td>0</td>\n",
       "      <td>0</td>\n",
       "      <td>0.0</td>\n",
       "      <td>0.000</td>\n",
       "      <td>0</td>\n",
       "      <td>0</td>\n",
       "      <td>BENIGN</td>\n",
       "    </tr>\n",
       "    <tr>\n",
       "      <th>2</th>\n",
       "      <td>123</td>\n",
       "      <td>37017</td>\n",
       "      <td>1</td>\n",
       "      <td>1</td>\n",
       "      <td>48</td>\n",
       "      <td>48</td>\n",
       "      <td>48</td>\n",
       "      <td>48</td>\n",
       "      <td>48.0</td>\n",
       "      <td>0.0</td>\n",
       "      <td>...</td>\n",
       "      <td>32</td>\n",
       "      <td>0.000</td>\n",
       "      <td>0.000</td>\n",
       "      <td>0</td>\n",
       "      <td>0</td>\n",
       "      <td>0.0</td>\n",
       "      <td>0.000</td>\n",
       "      <td>0</td>\n",
       "      <td>0</td>\n",
       "      <td>BENIGN</td>\n",
       "    </tr>\n",
       "    <tr>\n",
       "      <th>3</th>\n",
       "      <td>0</td>\n",
       "      <td>111161336</td>\n",
       "      <td>147</td>\n",
       "      <td>0</td>\n",
       "      <td>0</td>\n",
       "      <td>0</td>\n",
       "      <td>0</td>\n",
       "      <td>0</td>\n",
       "      <td>0.0</td>\n",
       "      <td>0.0</td>\n",
       "      <td>...</td>\n",
       "      <td>0</td>\n",
       "      <td>1753752.625</td>\n",
       "      <td>2123197.578</td>\n",
       "      <td>4822992</td>\n",
       "      <td>95</td>\n",
       "      <td>9463032.7</td>\n",
       "      <td>2657727.996</td>\n",
       "      <td>13600000</td>\n",
       "      <td>5700287</td>\n",
       "      <td>BENIGN</td>\n",
       "    </tr>\n",
       "    <tr>\n",
       "      <th>4</th>\n",
       "      <td>123</td>\n",
       "      <td>38407</td>\n",
       "      <td>1</td>\n",
       "      <td>1</td>\n",
       "      <td>48</td>\n",
       "      <td>48</td>\n",
       "      <td>48</td>\n",
       "      <td>48</td>\n",
       "      <td>48.0</td>\n",
       "      <td>0.0</td>\n",
       "      <td>...</td>\n",
       "      <td>32</td>\n",
       "      <td>0.000</td>\n",
       "      <td>0.000</td>\n",
       "      <td>0</td>\n",
       "      <td>0</td>\n",
       "      <td>0.0</td>\n",
       "      <td>0.000</td>\n",
       "      <td>0</td>\n",
       "      <td>0</td>\n",
       "      <td>BENIGN</td>\n",
       "    </tr>\n",
       "  </tbody>\n",
       "</table>\n",
       "<p>5 rows × 79 columns</p>\n",
       "</div>"
      ],
      "text/plain": [
       "   Destination Port  Flow Duration  Total Fwd Packets  Total Backward Packets  \\\n",
       "0             60148             83                  1                       2   \n",
       "1               123          99947                  1                       1   \n",
       "2               123          37017                  1                       1   \n",
       "3                 0      111161336                147                       0   \n",
       "4               123          38407                  1                       1   \n",
       "\n",
       "   Total Length of Fwd Packets  Total Length of Bwd Packets  \\\n",
       "0                            0                            0   \n",
       "1                           48                           48   \n",
       "2                           48                           48   \n",
       "3                            0                            0   \n",
       "4                           48                           48   \n",
       "\n",
       "   Fwd Packet Length Max  Fwd Packet Length Min  Fwd Packet Length Mean  \\\n",
       "0                      0                      0                     0.0   \n",
       "1                     48                     48                    48.0   \n",
       "2                     48                     48                    48.0   \n",
       "3                      0                      0                     0.0   \n",
       "4                     48                     48                    48.0   \n",
       "\n",
       "   Fwd Packet Length Std  ...  min_seg_size_forward  Active Mean   Active Std  \\\n",
       "0                    0.0  ...                    32        0.000        0.000   \n",
       "1                    0.0  ...                    40        0.000        0.000   \n",
       "2                    0.0  ...                    32        0.000        0.000   \n",
       "3                    0.0  ...                     0  1753752.625  2123197.578   \n",
       "4                    0.0  ...                    32        0.000        0.000   \n",
       "\n",
       "   Active Max  Active Min  Idle Mean     Idle Std  Idle Max  Idle Min   Label  \n",
       "0           0           0        0.0        0.000         0         0  BENIGN  \n",
       "1           0           0        0.0        0.000         0         0  BENIGN  \n",
       "2           0           0        0.0        0.000         0         0  BENIGN  \n",
       "3     4822992          95  9463032.7  2657727.996  13600000   5700287  BENIGN  \n",
       "4           0           0        0.0        0.000         0         0  BENIGN  \n",
       "\n",
       "[5 rows x 79 columns]"
      ]
     },
     "execution_count": 19,
     "metadata": {},
     "output_type": "execute_result"
    }
   ],
   "source": [
    "dataset.head()"
   ]
  },
  {
   "cell_type": "code",
   "execution_count": 20,
   "metadata": {
    "id": "3VgGRPN76xbt"
   },
   "outputs": [],
   "source": [
    "#REMOVING NULL"
   ]
  },
  {
   "cell_type": "code",
   "execution_count": 21,
   "metadata": {
    "colab": {
     "base_uri": "https://localhost:8080/"
    },
    "id": "fqClVV3jR-ic",
    "outputId": "eb76dd1c-7481-4e69-addb-b96790f67995"
   },
   "outputs": [
    {
     "data": {
      "text/plain": [
       "True"
      ]
     },
     "execution_count": 21,
     "metadata": {},
     "output_type": "execute_result"
    }
   ],
   "source": [
    "#checking null values\n",
    "dataset.isnull().values.any()"
   ]
  },
  {
   "cell_type": "code",
   "execution_count": 22,
   "metadata": {
    "colab": {
     "base_uri": "https://localhost:8080/"
    },
    "id": "r1LmUO2eSeGB",
    "outputId": "70f322f4-71a0-4251-ccc2-1a3699d43370"
   },
   "outputs": [
    {
     "data": {
      "text/plain": [
       "334"
      ]
     },
     "execution_count": 22,
     "metadata": {},
     "output_type": "execute_result"
    }
   ],
   "source": [
    "#number of rows with NULL values\n",
    "dataset.isnull().values.sum()"
   ]
  },
  {
   "cell_type": "markdown",
   "metadata": {
    "id": "C27vO_9ETjc6"
   },
   "source": [
    "As number of Null values is very small(i.e. 0.01% of dataset) we can safely remove"
   ]
  },
  {
   "cell_type": "code",
   "execution_count": 23,
   "metadata": {
    "id": "zHD9TMdxSplT"
   },
   "outputs": [],
   "source": [
    "dataset.dropna(inplace = True)"
   ]
  },
  {
   "cell_type": "code",
   "execution_count": 24,
   "metadata": {
    "colab": {
     "base_uri": "https://localhost:8080/"
    },
    "id": "jxtE8kEX6xf7",
    "outputId": "f1f255cb-ec2a-47c6-e4bb-c3e646d0d8ec"
   },
   "outputs": [
    {
     "data": {
      "text/plain": [
       "0"
      ]
     },
     "execution_count": 24,
     "metadata": {},
     "output_type": "execute_result"
    }
   ],
   "source": [
    "#number of rows with NULL values\n",
    "dataset.isnull().values.sum()"
   ]
  },
  {
   "cell_type": "code",
   "execution_count": 25,
   "metadata": {
    "colab": {
     "base_uri": "https://localhost:8080/"
    },
    "id": "xjmSjLYIX2if",
    "outputId": "e8e82b45-9c06-4d0e-dd4e-0cdfd9b3b6ba"
   },
   "outputs": [
    {
     "data": {
      "text/plain": [
       "False"
      ]
     },
     "execution_count": 25,
     "metadata": {},
     "output_type": "execute_result"
    }
   ],
   "source": [
    "# Checking if all values are finite.\n",
    "np.all(np.isfinite(dataset.iloc[:,:-1]))"
   ]
  },
  {
   "cell_type": "code",
   "execution_count": 26,
   "metadata": {
    "colab": {
     "base_uri": "https://localhost:8080/"
    },
    "id": "jTI809inXSlW",
    "outputId": "42f1a5fa-98ae-4ba7-9f95-42c31a5509ae"
   },
   "outputs": [
    {
     "data": {
      "text/plain": [
       "2264"
      ]
     },
     "execution_count": 26,
     "metadata": {},
     "output_type": "execute_result"
    }
   ],
   "source": [
    "#CALCULATING NUMBER OF nonfinite vlaues present\n",
    "np.isinf(dataset.iloc[:,:-1]).values.sum()"
   ]
  },
  {
   "cell_type": "code",
   "execution_count": 27,
   "metadata": {
    "id": "QsHU99-sXlUE"
   },
   "outputs": [],
   "source": [
    "# Replacing infinite values with NaN values.\n",
    "dataset = dataset.replace([np.inf, -np.inf], np.nan)"
   ]
  },
  {
   "cell_type": "code",
   "execution_count": 28,
   "metadata": {
    "id": "Y47FSDtV6xjx"
   },
   "outputs": [],
   "source": [
    "# CALCULATING NUMBER OF nonfinite vlaues present\n",
    "# np.isinf(dataset.iloc[:,:-1]).values.sum()"
   ]
  },
  {
   "cell_type": "code",
   "execution_count": 29,
   "metadata": {
    "id": "7ZZbnUkru61y"
   },
   "outputs": [],
   "source": [
    "dataset.dropna(inplace = True)"
   ]
  },
  {
   "cell_type": "code",
   "execution_count": 30,
   "metadata": {
    "colab": {
     "base_uri": "https://localhost:8080/"
    },
    "id": "Ronr88y1UphO",
    "outputId": "a6db0a23-b90d-451d-8f99-3b2cc4951483"
   },
   "outputs": [
    {
     "data": {
      "text/plain": [
       "(2425727, 79)"
      ]
     },
     "execution_count": 30,
     "metadata": {},
     "output_type": "execute_result"
    }
   ],
   "source": [
    "dataset.shape"
   ]
  },
  {
   "cell_type": "markdown",
   "metadata": {
    "id": "3prm0rXBY-Sn"
   },
   "source": [
    "Normalizing the data for the model"
   ]
  },
  {
   "cell_type": "code",
   "execution_count": 32,
   "metadata": {
    "id": "3_ddcDJvvR3S"
   },
   "outputs": [],
   "source": [
    "# Saving cleaned dataset.\n",
    "dataset.to_csv(\"Dataset_clean.csv\", index=False)"
   ]
  },
  {
   "cell_type": "code",
   "execution_count": null,
   "metadata": {},
   "outputs": [],
   "source": []
  }
 ],
 "metadata": {
  "accelerator": "GPU",
  "colab": {
   "collapsed_sections": [],
   "name": "data_preprocessing.ipynb",
   "provenance": []
  },
  "kernelspec": {
   "display_name": "Python 3",
   "language": "python",
   "name": "python3"
  },
  "language_info": {
   "codemirror_mode": {
    "name": "ipython",
    "version": 3
   },
   "file_extension": ".py",
   "mimetype": "text/x-python",
   "name": "python",
   "nbconvert_exporter": "python",
   "pygments_lexer": "ipython3",
   "version": "3.6.9"
  }
 },
 "nbformat": 4,
 "nbformat_minor": 1
}
